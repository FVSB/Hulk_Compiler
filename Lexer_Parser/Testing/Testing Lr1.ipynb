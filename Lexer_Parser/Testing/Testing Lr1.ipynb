{
 "cells": [
  {
   "cell_type": "markdown",
   "source": [
    "Importar la grámatica"
   ],
   "metadata": {
    "collapsed": false
   },
   "id": "9054b1da27f5e231"
  },
  {
   "cell_type": "code",
   "outputs": [],
   "source": [
    "from tools.pycompiler import Grammar, Terminal, NonTerminal, Token\n",
    "from tools.ast import Node, BinaryNode, get_printer"
   ],
   "metadata": {
    "collapsed": false,
    "ExecuteTime": {
     "end_time": "2024-03-26T15:05:20.555550Z",
     "start_time": "2024-03-26T15:05:20.549971Z"
    }
   },
   "id": "74c3ec0c9f8211f0",
   "execution_count": 34
  },
  {
   "cell_type": "markdown",
   "source": [
    "Importar Generador de parser LR1(1)"
   ],
   "metadata": {
    "collapsed": false
   },
   "id": "c8a5f3f1738ebc78"
  },
  {
   "cell_type": "code",
   "execution_count": 35,
   "id": "initial_id",
   "metadata": {
    "collapsed": true,
    "ExecuteTime": {
     "end_time": "2024-03-26T15:05:20.923309Z",
     "start_time": "2024-03-26T15:05:20.917318Z"
    }
   },
   "outputs": [],
   "source": [
    "from tools.shift_reduce import LR1Parser, evaluate_reverse_parse\n"
   ]
  },
  {
   "cell_type": "code",
   "outputs": [],
   "source": [
    " G = Grammar() #Crear gramatica"
   ],
   "metadata": {
    "collapsed": false,
    "ExecuteTime": {
     "end_time": "2024-03-26T15:05:20.970498Z",
     "start_time": "2024-03-26T15:05:20.964170Z"
    }
   },
   "id": "e78984df40af3467",
   "execution_count": 36
  },
  {
   "cell_type": "markdown",
   "source": [
    "## definir los terminales y no terminales"
   ],
   "metadata": {
    "collapsed": false
   },
   "id": "6a3d8b088bee008c"
  },
  {
   "cell_type": "code",
   "outputs": [],
   "source": [
    "E = G.NonTerminal('E', True)\n",
    "A = G.NonTerminal('A')\n",
    "equal, plus, num = G.Terminals('= + int')"
   ],
   "metadata": {
    "collapsed": false,
    "ExecuteTime": {
     "end_time": "2024-03-26T15:05:21.051705Z",
     "start_time": "2024-03-26T15:05:21.044918Z"
    }
   },
   "id": "f76ad378db07c7ae",
   "execution_count": 37
  },
  {
   "cell_type": "markdown",
   "source": [
    "## Definir las producciones"
   ],
   "metadata": {
    "collapsed": false
   },
   "id": "4dc175782033096d"
  },
  {
   "cell_type": "code",
   "outputs": [],
   "source": [
    "E %= A + equal + A | num\n",
    "A %= num + plus + A | num"
   ],
   "metadata": {
    "collapsed": false,
    "ExecuteTime": {
     "end_time": "2024-03-26T15:05:21.121223Z",
     "start_time": "2024-03-26T15:05:21.114480Z"
    }
   },
   "id": "b9bd38a032dc0295",
   "execution_count": 38
  },
  {
   "cell_type": "markdown",
   "source": [
    "Generar el parser"
   ],
   "metadata": {
    "collapsed": false
   },
   "id": "8644f21832d5ab87"
  },
  {
   "cell_type": "code",
   "outputs": [
    {
     "data": {
      "text/plain": "<tools.shift_reduce.LR1Parser at 0x1eaa6083230>"
     },
     "execution_count": 39,
     "metadata": {},
     "output_type": "execute_result"
    }
   ],
   "source": [
    "parser = LR1Parser(G)\n",
    "parser"
   ],
   "metadata": {
    "collapsed": false,
    "ExecuteTime": {
     "end_time": "2024-03-26T15:05:21.183940Z",
     "start_time": "2024-03-26T15:05:21.173210Z"
    }
   },
   "id": "428eade516953f4a",
   "execution_count": 39
  },
  {
   "cell_type": "markdown",
   "source": [
    "## Parsear una cadena"
   ],
   "metadata": {
    "collapsed": false
   },
   "id": "8927fc89a76312a2"
  },
  {
   "cell_type": "markdown",
   "source": [
    "Generador de lexer"
   ],
   "metadata": {
    "collapsed": false
   },
   "id": "2a0dd921d21cd61"
  },
  {
   "cell_type": "code",
   "outputs": [],
   "source": [
    "from tools.lexer import Lexer"
   ],
   "metadata": {
    "collapsed": false,
    "ExecuteTime": {
     "end_time": "2024-03-26T15:05:21.224649Z",
     "start_time": "2024-03-26T15:05:21.219108Z"
    }
   },
   "id": "91236ca076f5b42a",
   "execution_count": 40
  },
  {
   "cell_type": "code",
   "outputs": [
    {
     "name": "stderr",
     "output_type": "stream",
     "text": [
      "<>:8: SyntaxWarning: invalid escape sequence '\\+'\n",
      "<>:8: SyntaxWarning: invalid escape sequence '\\+'\n",
      "C:\\Users\\paco2\\AppData\\Local\\Temp\\ipykernel_21156\\957090294.py:8: SyntaxWarning: invalid escape sequence '\\+'\n",
      "  (plus, '\\+'),\n"
     ]
    }
   ],
   "source": [
    "lexer = Lexer(\n",
    "            [\n",
    "                (num, '(1|2|3|4|5|6|7|8|9)(0|1|2|3|4|5|6|7|8|9)*'),\n",
    "\n",
    "                ('space', '( |\\t|\\n)( |\\t|\\n)*'),\n",
    "\n",
    "                (equal, '='),\n",
    "                (plus, '\\+'),\n",
    "\n",
    "            ], G.EOF\n",
    "        )"
   ],
   "metadata": {
    "collapsed": false,
    "ExecuteTime": {
     "end_time": "2024-03-26T15:05:21.337406Z",
     "start_time": "2024-03-26T15:05:21.305889Z"
    }
   },
   "id": "de90501f46ea63a3",
   "execution_count": 41
  },
  {
   "cell_type": "code",
   "outputs": [],
   "source": [
    "def is_Valid(lexer,parser, text, verbose=False):\n",
    "    all_tokens =lexer(text)\n",
    "    tokens = list(filter(lambda token: token.token_type != 'space', all_tokens))\n",
    "    right_parse, operations = parser(tokens)\n",
    "    print(right_parse)\n",
    "    print(\"-----------------------------\")\n",
    "    print(operations)\n",
    "    print(\"###############################\")\n",
    "    \n",
    "    ast = evaluate_reverse_parse(right_parse, operations, tokens)\n",
    "    return ast"
   ],
   "metadata": {
    "collapsed": false,
    "ExecuteTime": {
     "end_time": "2024-03-26T15:05:21.377190Z",
     "start_time": "2024-03-26T15:05:21.368158Z"
    }
   },
   "id": "b7589fc0b866a023",
   "execution_count": 42
  },
  {
   "cell_type": "code",
   "outputs": [],
   "source": [
    "parser.REDUCE"
   ],
   "metadata": {
    "collapsed": false
   },
   "id": "fd7d390590e52a72"
  },
  {
   "cell_type": "code",
   "outputs": [],
   "source": [
    "  def Print(self, ast):\n",
    "        print(self.printer(ast))"
   ],
   "metadata": {
    "collapsed": false,
    "ExecuteTime": {
     "end_time": "2024-03-26T15:05:21.433994Z",
     "start_time": "2024-03-26T15:05:21.426872Z"
    }
   },
   "id": "8f44d52e45af5b39",
   "execution_count": 43
  },
  {
   "cell_type": "code",
   "outputs": [],
   "source": [
    "w=\"1+2=3\""
   ],
   "metadata": {
    "collapsed": false,
    "ExecuteTime": {
     "end_time": "2024-03-26T15:05:21.497364Z",
     "start_time": "2024-03-26T15:05:21.491850Z"
    }
   },
   "id": "206559e4985de7df",
   "execution_count": 44
  },
  {
   "cell_type": "code",
   "outputs": [
    {
     "name": "stdout",
     "output_type": "stream",
     "text": [
      "[A -> int, A -> int + A, A -> int, E -> A = A]\n",
      "-----------------------------\n",
      "['SHIFT', 'SHIFT', 'SHIFT', 'REDUCE', 'REDUCE', 'SHIFT', 'SHIFT', 'REDUCE', 'REDUCE']\n",
      "###############################\n"
     ]
    },
    {
     "ename": "AttributeError",
     "evalue": "'Production' object has no attribute 'attributes'",
     "output_type": "error",
     "traceback": [
      "\u001B[1;31m---------------------------------------------------------------------------\u001B[0m",
      "\u001B[1;31mAttributeError\u001B[0m                            Traceback (most recent call last)",
      "Cell \u001B[1;32mIn[45], line 1\u001B[0m\n\u001B[1;32m----> 1\u001B[0m \u001B[38;5;28mprint\u001B[39m(\u001B[43mis_Valid\u001B[49m\u001B[43m(\u001B[49m\u001B[43mlexer\u001B[49m\u001B[43m,\u001B[49m\u001B[43mparser\u001B[49m\u001B[43m,\u001B[49m\u001B[43mw\u001B[49m\u001B[43m)\u001B[49m)\n",
      "Cell \u001B[1;32mIn[42], line 10\u001B[0m, in \u001B[0;36mis_Valid\u001B[1;34m(lexer, parser, text, verbose)\u001B[0m\n\u001B[0;32m      7\u001B[0m \u001B[38;5;28mprint\u001B[39m(operations)\n\u001B[0;32m      8\u001B[0m \u001B[38;5;28mprint\u001B[39m(\u001B[38;5;124m\"\u001B[39m\u001B[38;5;124m###############################\u001B[39m\u001B[38;5;124m\"\u001B[39m)\n\u001B[1;32m---> 10\u001B[0m ast \u001B[38;5;241m=\u001B[39m \u001B[43mevaluate_reverse_parse\u001B[49m\u001B[43m(\u001B[49m\u001B[43mright_parse\u001B[49m\u001B[43m,\u001B[49m\u001B[43m \u001B[49m\u001B[43moperations\u001B[49m\u001B[43m,\u001B[49m\u001B[43m \u001B[49m\u001B[43mtokens\u001B[49m\u001B[43m)\u001B[49m\n\u001B[0;32m     11\u001B[0m \u001B[38;5;28;01mreturn\u001B[39;00m ast\n",
      "File \u001B[1;32m~\\Documents\\GitHub\\Testing_Hulk\\tools\\shift_reduce.py:424\u001B[0m, in \u001B[0;36mevaluate_reverse_parse\u001B[1;34m(right_parse, operations, tokens)\u001B[0m\n\u001B[0;32m    422\u001B[0m production \u001B[38;5;241m=\u001B[39m \u001B[38;5;28mnext\u001B[39m(right_parse)\n\u001B[0;32m    423\u001B[0m head, body \u001B[38;5;241m=\u001B[39m production\n\u001B[1;32m--> 424\u001B[0m attributes \u001B[38;5;241m=\u001B[39m \u001B[43mproduction\u001B[49m\u001B[38;5;241;43m.\u001B[39;49m\u001B[43mattributes\u001B[49m\n\u001B[0;32m    425\u001B[0m \u001B[38;5;28;01massert\u001B[39;00m \u001B[38;5;28mall\u001B[39m(rule \u001B[38;5;129;01mis\u001B[39;00m \u001B[38;5;28;01mNone\u001B[39;00m \u001B[38;5;28;01mfor\u001B[39;00m rule \u001B[38;5;129;01min\u001B[39;00m attributes[\u001B[38;5;241m1\u001B[39m:]), \u001B[38;5;124m'\u001B[39m\u001B[38;5;124mThere must be only synteticed attributes.\u001B[39m\u001B[38;5;124m'\u001B[39m\n\u001B[0;32m    426\u001B[0m rule \u001B[38;5;241m=\u001B[39m attributes[\u001B[38;5;241m0\u001B[39m]\n",
      "\u001B[1;31mAttributeError\u001B[0m: 'Production' object has no attribute 'attributes'"
     ]
    }
   ],
   "source": [
    "print(is_Valid(lexer,parser,w))"
   ],
   "metadata": {
    "collapsed": false,
    "ExecuteTime": {
     "end_time": "2024-03-26T15:05:21.640625Z",
     "start_time": "2024-03-26T15:05:21.576Z"
    }
   },
   "id": "7a1f35aa63a6b401",
   "execution_count": 45
  },
  {
   "cell_type": "markdown",
   "source": [],
   "metadata": {
    "collapsed": false
   },
   "id": "640f2f910807a5f5"
  },
  {
   "cell_type": "code",
   "outputs": [],
   "source": [
    "from cmp.evaluation import  evaluate_reverse_parse"
   ],
   "metadata": {
    "collapsed": false
   },
   "id": "e16de488d754c718",
   "execution_count": null
  },
  {
   "cell_type": "code",
   "outputs": [
    {
     "name": "stdout",
     "output_type": "stream",
     "text": [
      "[A -> int, A -> int + A, A -> int, E -> A = A]\n",
      "-----------------------------\n",
      "['SHIFT', 'SHIFT', 'SHIFT', 'REDUCE', 'REDUCE', 'SHIFT', 'SHIFT', 'REDUCE', 'REDUCE']\n",
      "###############################\n"
     ]
    },
    {
     "ename": "AttributeError",
     "evalue": "'Production' object has no attribute 'attributes'",
     "output_type": "error",
     "traceback": [
      "\u001B[1;31m---------------------------------------------------------------------------\u001B[0m",
      "\u001B[1;31mAttributeError\u001B[0m                            Traceback (most recent call last)",
      "Cell \u001B[1;32mIn[46], line 1\u001B[0m\n\u001B[1;32m----> 1\u001B[0m riparswr,prod\u001B[38;5;241m=\u001B[39m\u001B[43mis_Valid\u001B[49m\u001B[43m(\u001B[49m\u001B[43mlexer\u001B[49m\u001B[43m,\u001B[49m\u001B[43mparser\u001B[49m\u001B[43m,\u001B[49m\u001B[43mw\u001B[49m\u001B[43m)\u001B[49m\n",
      "Cell \u001B[1;32mIn[42], line 10\u001B[0m, in \u001B[0;36mis_Valid\u001B[1;34m(lexer, parser, text, verbose)\u001B[0m\n\u001B[0;32m      7\u001B[0m \u001B[38;5;28mprint\u001B[39m(operations)\n\u001B[0;32m      8\u001B[0m \u001B[38;5;28mprint\u001B[39m(\u001B[38;5;124m\"\u001B[39m\u001B[38;5;124m###############################\u001B[39m\u001B[38;5;124m\"\u001B[39m)\n\u001B[1;32m---> 10\u001B[0m ast \u001B[38;5;241m=\u001B[39m \u001B[43mevaluate_reverse_parse\u001B[49m\u001B[43m(\u001B[49m\u001B[43mright_parse\u001B[49m\u001B[43m,\u001B[49m\u001B[43m \u001B[49m\u001B[43moperations\u001B[49m\u001B[43m,\u001B[49m\u001B[43m \u001B[49m\u001B[43mtokens\u001B[49m\u001B[43m)\u001B[49m\n\u001B[0;32m     11\u001B[0m \u001B[38;5;28;01mreturn\u001B[39;00m ast\n",
      "File \u001B[1;32m~\\Documents\\GitHub\\Testing_Hulk\\tools\\shift_reduce.py:424\u001B[0m, in \u001B[0;36mevaluate_reverse_parse\u001B[1;34m(right_parse, operations, tokens)\u001B[0m\n\u001B[0;32m    422\u001B[0m production \u001B[38;5;241m=\u001B[39m \u001B[38;5;28mnext\u001B[39m(right_parse)\n\u001B[0;32m    423\u001B[0m head, body \u001B[38;5;241m=\u001B[39m production\n\u001B[1;32m--> 424\u001B[0m attributes \u001B[38;5;241m=\u001B[39m \u001B[43mproduction\u001B[49m\u001B[38;5;241;43m.\u001B[39;49m\u001B[43mattributes\u001B[49m\n\u001B[0;32m    425\u001B[0m \u001B[38;5;28;01massert\u001B[39;00m \u001B[38;5;28mall\u001B[39m(rule \u001B[38;5;129;01mis\u001B[39;00m \u001B[38;5;28;01mNone\u001B[39;00m \u001B[38;5;28;01mfor\u001B[39;00m rule \u001B[38;5;129;01min\u001B[39;00m attributes[\u001B[38;5;241m1\u001B[39m:]), \u001B[38;5;124m'\u001B[39m\u001B[38;5;124mThere must be only synteticed attributes.\u001B[39m\u001B[38;5;124m'\u001B[39m\n\u001B[0;32m    426\u001B[0m rule \u001B[38;5;241m=\u001B[39m attributes[\u001B[38;5;241m0\u001B[39m]\n",
      "\u001B[1;31mAttributeError\u001B[0m: 'Production' object has no attribute 'attributes'"
     ]
    }
   ],
   "source": [
    "riparswr,prod=is_Valid(lexer,parser,w)\n"
   ],
   "metadata": {
    "collapsed": false,
    "ExecuteTime": {
     "end_time": "2024-03-26T15:05:21.738687Z",
     "start_time": "2024-03-26T15:05:21.674055Z"
    }
   },
   "id": "a8b81de794295b69",
   "execution_count": 46
  },
  {
   "cell_type": "code",
   "outputs": [],
   "source": [
    "from cmp.ast import get_printer\n",
    "printer = get_printer(AtomicNode=ConstantNumberNode, BinaryNode=BinaryNode)"
   ],
   "metadata": {
    "collapsed": false,
    "ExecuteTime": {
     "end_time": "2024-03-26T15:05:21.742705Z",
     "start_time": "2024-03-26T15:05:21.741696Z"
    }
   },
   "id": "d2380fbe95b00b41",
   "execution_count": null
  },
  {
   "cell_type": "code",
   "outputs": [],
   "source": [],
   "metadata": {
    "collapsed": false,
    "ExecuteTime": {
     "end_time": "2024-03-26T15:05:21.791510Z",
     "start_time": "2024-03-26T15:05:21.787842Z"
    }
   },
   "id": "c7cf0fa0a7a08b30",
   "execution_count": 46
  }
 ],
 "metadata": {
  "kernelspec": {
   "display_name": "Python 3",
   "language": "python",
   "name": "python3"
  },
  "language_info": {
   "codemirror_mode": {
    "name": "ipython",
    "version": 2
   },
   "file_extension": ".py",
   "mimetype": "text/x-python",
   "name": "python",
   "nbconvert_exporter": "python",
   "pygments_lexer": "ipython2",
   "version": "2.7.6"
  }
 },
 "nbformat": 4,
 "nbformat_minor": 5
}
