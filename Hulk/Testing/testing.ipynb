{
 "cells": [
  {
   "cell_type": "code",
   "execution_count": 11,
   "id": "initial_id",
   "metadata": {
    "collapsed": true,
    "ExecuteTime": {
     "end_time": "2024-03-29T08:22:13.070845Z",
     "start_time": "2024-03-29T08:22:13.061166Z"
    }
   },
   "outputs": [],
   "source": [
    "from Hulk.Parser.Hulk_Parser import get_hulk_parser\n",
    "from Hulk.Lexer.Hulk_Lexer import get_hulk_lexer"
   ]
  },
  {
   "cell_type": "code",
   "outputs": [],
   "source": [
    "parser=get_hulk_parser()\n",
    "lexer=get_hulk_lexer()"
   ],
   "metadata": {
    "collapsed": false,
    "ExecuteTime": {
     "end_time": "2024-03-29T08:22:20.853753Z",
     "start_time": "2024-03-29T08:22:13.184375Z"
    }
   },
   "id": "9db265c996458fbd",
   "execution_count": 12
  },
  {
   "cell_type": "code",
   "outputs": [
    {
     "name": "stdout",
     "output_type": "stream",
     "text": [
      "Lexer and parser Ok\n"
     ]
    }
   ],
   "source": [
    "\n",
    "\n",
    "\n",
    "print(\"Lexer and parser Ok\")\n",
    "\n",
    "def get_ast(code:str):\n",
    "    return parser(lexer(code))\n"
   ],
   "metadata": {
    "collapsed": false,
    "ExecuteTime": {
     "end_time": "2024-03-29T08:22:20.868924Z",
     "start_time": "2024-03-29T08:22:20.858765Z"
    }
   },
   "id": "27047cec13407581",
   "execution_count": 13
  },
  {
   "cell_type": "code",
   "outputs": [],
   "source": [
    "from Lexer_Parser.shift_reduce import LR1Parser, evaluate_reverse_parse"
   ],
   "metadata": {
    "collapsed": false,
    "ExecuteTime": {
     "end_time": "2024-03-29T08:22:20.951885Z",
     "start_time": "2024-03-29T08:22:20.941950Z"
    }
   },
   "id": "7751ab664d8f01e1",
   "execution_count": 14
  },
  {
   "cell_type": "code",
   "outputs": [],
   "source": [
    "from Hulk.AST_Semantic.Ast import *\n",
    "    "
   ],
   "metadata": {
    "collapsed": false,
    "ExecuteTime": {
     "end_time": "2024-03-29T08:22:20.968233Z",
     "start_time": "2024-03-29T08:22:20.959897Z"
    }
   },
   "id": "1777620fc7ac6c9b",
   "execution_count": 15
  },
  {
   "cell_type": "code",
   "outputs": [
    {
     "data": {
      "text/plain": "\"\\n    @visitor.when(PrintNode)\\n    def visit(self, node, tabs=0):\\n        ans = '\\t' * tabs + f'\\\\__PrintNode <expr>'\\n        expr = self.visit(node.expr, tabs + 1)\\n        return f'{ans}\\n{expr}'\\n    \\n    @visitor.when(VarDeclarationNode)\\n    def visit(self, node, tabs=0):\\n        ans = '\\t' * tabs + f'\\\\__VarDeclarationNode: let {node.id} = <expr>'\\n        expr = self.visit(node.expr, tabs + 1)\\n        return f'{ans}\\n{expr}'\\n    \\n    @visitor.when(FuncDeclarationNode)\\n    def visit(self, node, tabs=0):\\n        params = ', '.join(node.params)\\n        ans = '\\t' * tabs + f'\\\\__FuncDeclarationNode: def {node.id}({params}) -> <expr>'\\n        body = self.visit(node.body, tabs + 1)\\n        return f'{ans}\\n{body}'\\n\\n    @visitor.when(BinaryNode)\\n    def visit(self, node, tabs=0):\\n        ans = '\\t' * tabs + f'\\\\__<expr> {node.__class__.__name__} <expr>'\\n        left = self.visit(node.left, tabs + 1)\\n        right = self.visit(node.right, tabs + 1)\\n        return f'{ans}\\n{left}\\n{right}'\\n\\n    @visitor.when(AtomicNode)\\n    def visit(self, node, tabs=0):\\n        return '\\t' * tabs + f'\\\\__ {node.__class__.__name__}: {node.lex}'\\n    \\n    @visitor.when(CallNode)\\n    def visit(self, node, tabs=0):\\n        ans = '\\t' * tabs + f'\\\\__CallNode: {node.lex}(<expr>, ..., <expr>)'\\n        args = '\\n'.join(self.visit(arg, tabs + 1) for arg in node.args)\\n        return f'{ans}\\n{args}'\\n    \""
     },
     "execution_count": 20,
     "metadata": {},
     "output_type": "execute_result"
    }
   ],
   "source": [
    "import cmp.visitor as visitor\n",
    "\n",
    "class FormatVisitor(object):\n",
    "    @visitor.on('node')\n",
    "    def visit(self, node, tabs):\n",
    "        pass\n",
    "    \n",
    "    @visitor.when(ProgramNode)\n",
    "    def visit(self, node, tabs=0):\n",
    "       ans='\\t' * tabs + f'\\\\__ProgramNode {len(node.statements_list)}'\n",
    "       \n",
    "       statements=\" \"\n",
    "       for statement in node.statements_list:\n",
    "            asd = self.visit(statement, tabs + 1)\n",
    "            print(asd)\n",
    "            statements.join(asd)\n",
    "       ans2=f\"COn {len(node.exp) }expresions\"\n",
    "       exps=\" \"\n",
    "       exps=''.join(self.visit(child, tabs + 1) for child in node.exp)\n",
    "        \n",
    "       return f\"{ans}/{statements}//{ans2}/{exps}\"\n",
    "        \n",
    "    \"\"\"\n",
    "    def visit(self, node, tabs=0):\n",
    "        ans = '\\t' * tabs + f'\\\\__ProgramNode [<stat-list>; ... <stat-list>;],<exp>'\n",
    "        statements = '\\n'.join(self.visit(child, tabs + 1) for child in node.statements_list)\n",
    "        exp=\"\\n\".join(self.visit(node.exp,tabs+1))\n",
    "        return f'{ans}\\n{statements}\\n expressionsss{exp}'\n",
    "    \"\"\"\n",
    "    @visitor.when(StringExpression)\n",
    "    def visit (self,node,tabs=0):\n",
    "        ans='\\t' * tabs + f'\\\\__StringExpression [<string-exp>;],<concatenable>'\n",
    "        return  ans\n",
    "        \n",
    "\"\"\"\n",
    "    @visitor.when(PrintNode)\n",
    "    def visit(self, node, tabs=0):\n",
    "        ans = '\\t' * tabs + f'\\\\__PrintNode <expr>'\n",
    "        expr = self.visit(node.expr, tabs + 1)\n",
    "        return f'{ans}\\n{expr}'\n",
    "    \n",
    "    @visitor.when(VarDeclarationNode)\n",
    "    def visit(self, node, tabs=0):\n",
    "        ans = '\\t' * tabs + f'\\\\__VarDeclarationNode: let {node.id} = <expr>'\n",
    "        expr = self.visit(node.expr, tabs + 1)\n",
    "        return f'{ans}\\n{expr}'\n",
    "    \n",
    "    @visitor.when(FuncDeclarationNode)\n",
    "    def visit(self, node, tabs=0):\n",
    "        params = ', '.join(node.params)\n",
    "        ans = '\\t' * tabs + f'\\\\__FuncDeclarationNode: def {node.id}({params}) -> <expr>'\n",
    "        body = self.visit(node.body, tabs + 1)\n",
    "        return f'{ans}\\n{body}'\n",
    "\n",
    "    @visitor.when(BinaryNode)\n",
    "    def visit(self, node, tabs=0):\n",
    "        ans = '\\t' * tabs + f'\\\\__<expr> {node.__class__.__name__} <expr>'\n",
    "        left = self.visit(node.left, tabs + 1)\n",
    "        right = self.visit(node.right, tabs + 1)\n",
    "        return f'{ans}\\n{left}\\n{right}'\n",
    "\n",
    "    @visitor.when(AtomicNode)\n",
    "    def visit(self, node, tabs=0):\n",
    "        return '\\t' * tabs + f'\\\\__ {node.__class__.__name__}: {node.lex}'\n",
    "    \n",
    "    @visitor.when(CallNode)\n",
    "    def visit(self, node, tabs=0):\n",
    "        ans = '\\t' * tabs + f'\\\\__CallNode: {node.lex}(<expr>, ..., <expr>)'\n",
    "        args = '\\n'.join(self.visit(arg, tabs + 1) for arg in node.args)\n",
    "        return f'{ans}\\n{args}'\n",
    "    \"\"\""
   ],
   "metadata": {
    "collapsed": false,
    "ExecuteTime": {
     "end_time": "2024-03-29T08:24:37.028133Z",
     "start_time": "2024-03-29T08:24:36.991883Z"
    }
   },
   "id": "367fa9e0dfe2b3da",
   "execution_count": 20
  },
  {
   "cell_type": "code",
   "outputs": [],
   "source": [
    "#from cmp.ast import get_printer"
   ],
   "metadata": {
    "collapsed": false,
    "ExecuteTime": {
     "end_time": "2024-03-29T08:24:39.427333Z",
     "start_time": "2024-03-29T08:24:39.419328Z"
    }
   },
   "id": "b375e8af453b4e4d",
   "execution_count": 21
  },
  {
   "cell_type": "code",
   "outputs": [],
   "source": [
    "def parse(text: str):\n",
    "    \"\"\"\n",
    "    Parsea la cadena, printea los token las producciones y las operaciones shift reduce adeams del ast\n",
    "    :param text:\n",
    "    :return:\n",
    "    \"\"\"\n",
    "    all_tokens = lexer(text)\n",
    "    tokens = list(filter(lambda token: token.token_type != 'space', all_tokens))\n",
    "    print(f\"Los tokens son {tokens}\")\n",
    "    right_parse, operations = parser(tokens)\n",
    "    print(right_parse)\n",
    "    print(\"-----------------------------\")\n",
    "    print(operations)\n",
    "    print(\"###############################\")\n",
    "\n",
    "    ast = evaluate_reverse_parse(right_parse, operations, tokens)\n",
    "\n",
    "    #printer = get_printer(AtomicNode=ConstantNumberNode, BinaryNode=BinaryNode)\n",
    "    #print(f\" \\n El ast es: \\n {printer(ast)}\")\n",
    "    \n",
    "    formatter = FormatVisitor()\n",
    "    print(formatter.visit(ast))"
   ],
   "metadata": {
    "collapsed": false,
    "ExecuteTime": {
     "end_time": "2024-03-29T08:24:40.259001Z",
     "start_time": "2024-03-29T08:24:40.243628Z"
    }
   },
   "id": "d335adb37dae3d0c",
   "execution_count": 22
  },
  {
   "cell_type": "code",
   "outputs": [],
   "source": [],
   "metadata": {
    "collapsed": false,
    "ExecuteTime": {
     "end_time": "2024-03-29T08:24:41.227376Z",
     "start_time": "2024-03-29T08:24:41.221833Z"
    }
   },
   "id": "4d8fa4c2c1e6b478",
   "execution_count": 22
  },
  {
   "cell_type": "code",
   "outputs": [
    {
     "name": "stdout",
     "output_type": "stream",
     "text": [
      "Test 0\n",
      "Los tokens son [-: -, num: 5, ;: ;, $: $]\n",
      "[<stat-list> -> e, <atom> -> - num, <k> -> <atom>, <mod> -> <k>, <factor> -> <mod>, <term> -> <factor>, <string-exp> -> <term>, <exp> -> <string-exp>, <program> -> <stat-list> <exp> ;]\n",
      "-----------------------------\n",
      "['REDUCE', 'SHIFT', 'SHIFT', 'REDUCE', 'REDUCE', 'REDUCE', 'REDUCE', 'REDUCE', 'REDUCE', 'REDUCE', 'SHIFT', 'REDUCE']\n",
      "###############################\n"
     ]
    },
    {
     "ename": "TypeError",
     "evalue": "sequence item 0: expected str instance, list found",
     "output_type": "error",
     "traceback": [
      "\u001B[1;31m---------------------------------------------------------------------------\u001B[0m",
      "\u001B[1;31mTypeError\u001B[0m                                 Traceback (most recent call last)",
      "Cell \u001B[1;32mIn[23], line 7\u001B[0m\n\u001B[0;32m      4\u001B[0m     parse(\u001B[38;5;124m'\u001B[39m\u001B[38;5;124m-5;\u001B[39m\u001B[38;5;124m'\u001B[39m)\n\u001B[0;32m      5\u001B[0m     \u001B[38;5;28mprint\u001B[39m(\u001B[38;5;124m\"\u001B[39m\u001B[38;5;124mFinish test 0\u001B[39m\u001B[38;5;124m\"\u001B[39m)\n\u001B[1;32m----> 7\u001B[0m \u001B[43mtest0\u001B[49m\u001B[43m(\u001B[49m\u001B[43m)\u001B[49m\n",
      "Cell \u001B[1;32mIn[23], line 4\u001B[0m, in \u001B[0;36mtest0\u001B[1;34m()\u001B[0m\n\u001B[0;32m      2\u001B[0m \u001B[38;5;28mprint\u001B[39m(\u001B[38;5;124m\"\u001B[39m\u001B[38;5;124mTest 0\u001B[39m\u001B[38;5;124m\"\u001B[39m)\n\u001B[0;32m      3\u001B[0m \u001B[38;5;66;03m#ast=get_ast('-5;')\u001B[39;00m\n\u001B[1;32m----> 4\u001B[0m \u001B[43mparse\u001B[49m\u001B[43m(\u001B[49m\u001B[38;5;124;43m'\u001B[39;49m\u001B[38;5;124;43m-5;\u001B[39;49m\u001B[38;5;124;43m'\u001B[39;49m\u001B[43m)\u001B[49m\n\u001B[0;32m      5\u001B[0m \u001B[38;5;28mprint\u001B[39m(\u001B[38;5;124m\"\u001B[39m\u001B[38;5;124mFinish test 0\u001B[39m\u001B[38;5;124m\"\u001B[39m)\n",
      "Cell \u001B[1;32mIn[22], line 22\u001B[0m, in \u001B[0;36mparse\u001B[1;34m(text)\u001B[0m\n\u001B[0;32m     18\u001B[0m \u001B[38;5;66;03m#printer = get_printer(AtomicNode=ConstantNumberNode, BinaryNode=BinaryNode)\u001B[39;00m\n\u001B[0;32m     19\u001B[0m \u001B[38;5;66;03m#print(f\" \\n El ast es: \\n {printer(ast)}\")\u001B[39;00m\n\u001B[0;32m     21\u001B[0m formatter \u001B[38;5;241m=\u001B[39m FormatVisitor()\n\u001B[1;32m---> 22\u001B[0m \u001B[38;5;28mprint\u001B[39m(\u001B[43mformatter\u001B[49m\u001B[38;5;241;43m.\u001B[39;49m\u001B[43mvisit\u001B[49m\u001B[43m(\u001B[49m\u001B[43mast\u001B[49m\u001B[43m)\u001B[49m)\n",
      "File \u001B[1;32m~\\Documents\\GitHub\\Hulk_Compiler\\cmp\\visitor.py:43\u001B[0m, in \u001B[0;36mwhen.<locals>.f.<locals>.ff\u001B[1;34m(*args, **kw)\u001B[0m\n\u001B[0;32m     42\u001B[0m \u001B[38;5;28;01mdef\u001B[39;00m \u001B[38;5;21mff\u001B[39m(\u001B[38;5;241m*\u001B[39margs, \u001B[38;5;241m*\u001B[39m\u001B[38;5;241m*\u001B[39mkw):\n\u001B[1;32m---> 43\u001B[0m   \u001B[38;5;28;01mreturn\u001B[39;00m \u001B[43mdispatcher\u001B[49m\u001B[43m(\u001B[49m\u001B[38;5;241;43m*\u001B[39;49m\u001B[43margs\u001B[49m\u001B[43m,\u001B[49m\u001B[43m \u001B[49m\u001B[38;5;241;43m*\u001B[39;49m\u001B[38;5;241;43m*\u001B[39;49m\u001B[43mkw\u001B[49m\u001B[43m)\u001B[49m\n",
      "File \u001B[1;32m~\\Documents\\GitHub\\Hulk_Compiler\\cmp\\visitor.py:61\u001B[0m, in \u001B[0;36mDispatcher.__call__\u001B[1;34m(self, *args, **kw)\u001B[0m\n\u001B[0;32m     59\u001B[0m d \u001B[38;5;241m=\u001B[39m \u001B[38;5;28mself\u001B[39m\u001B[38;5;241m.\u001B[39mtargets\u001B[38;5;241m.\u001B[39mget(typ)\n\u001B[0;32m     60\u001B[0m \u001B[38;5;28;01mif\u001B[39;00m d \u001B[38;5;129;01mis\u001B[39;00m \u001B[38;5;129;01mnot\u001B[39;00m \u001B[38;5;28;01mNone\u001B[39;00m:\n\u001B[1;32m---> 61\u001B[0m   \u001B[38;5;28;01mreturn\u001B[39;00m \u001B[43md\u001B[49m\u001B[43m(\u001B[49m\u001B[38;5;241;43m*\u001B[39;49m\u001B[43margs\u001B[49m\u001B[43m,\u001B[49m\u001B[43m \u001B[49m\u001B[38;5;241;43m*\u001B[39;49m\u001B[38;5;241;43m*\u001B[39;49m\u001B[43mkw\u001B[49m\u001B[43m)\u001B[49m\n\u001B[0;32m     62\u001B[0m \u001B[38;5;28;01melse\u001B[39;00m:\n\u001B[0;32m     63\u001B[0m   issub \u001B[38;5;241m=\u001B[39m \u001B[38;5;28missubclass\u001B[39m\n",
      "Cell \u001B[1;32mIn[20], line 19\u001B[0m, in \u001B[0;36mFormatVisitor.visit\u001B[1;34m(self, node, tabs)\u001B[0m\n\u001B[0;32m     17\u001B[0m ans2\u001B[38;5;241m=\u001B[39m\u001B[38;5;124mf\u001B[39m\u001B[38;5;124m\"\u001B[39m\u001B[38;5;124mCOn \u001B[39m\u001B[38;5;132;01m{\u001B[39;00m\u001B[38;5;28mlen\u001B[39m(node\u001B[38;5;241m.\u001B[39mexp)\u001B[38;5;250m \u001B[39m\u001B[38;5;132;01m}\u001B[39;00m\u001B[38;5;124mexpresions\u001B[39m\u001B[38;5;124m\"\u001B[39m\n\u001B[0;32m     18\u001B[0m exps\u001B[38;5;241m=\u001B[39m\u001B[38;5;124m\"\u001B[39m\u001B[38;5;124m \u001B[39m\u001B[38;5;124m\"\u001B[39m\n\u001B[1;32m---> 19\u001B[0m exps\u001B[38;5;241m=\u001B[39m\u001B[38;5;124;43m'\u001B[39;49m\u001B[38;5;124;43m'\u001B[39;49m\u001B[38;5;241;43m.\u001B[39;49m\u001B[43mjoin\u001B[49m\u001B[43m(\u001B[49m\u001B[38;5;28;43mself\u001B[39;49m\u001B[38;5;241;43m.\u001B[39;49m\u001B[43mvisit\u001B[49m\u001B[43m(\u001B[49m\u001B[43mchild\u001B[49m\u001B[43m,\u001B[49m\u001B[43m \u001B[49m\u001B[43mtabs\u001B[49m\u001B[43m \u001B[49m\u001B[38;5;241;43m+\u001B[39;49m\u001B[43m \u001B[49m\u001B[38;5;241;43m1\u001B[39;49m\u001B[43m)\u001B[49m\u001B[43m \u001B[49m\u001B[38;5;28;43;01mfor\u001B[39;49;00m\u001B[43m \u001B[49m\u001B[43mchild\u001B[49m\u001B[43m \u001B[49m\u001B[38;5;129;43;01min\u001B[39;49;00m\u001B[43m \u001B[49m\u001B[43mnode\u001B[49m\u001B[38;5;241;43m.\u001B[39;49m\u001B[43mexp\u001B[49m\u001B[43m)\u001B[49m\n\u001B[0;32m     21\u001B[0m \u001B[38;5;28;01mreturn\u001B[39;00m \u001B[38;5;124mf\u001B[39m\u001B[38;5;124m\"\u001B[39m\u001B[38;5;132;01m{\u001B[39;00mans\u001B[38;5;132;01m}\u001B[39;00m\u001B[38;5;124m/\u001B[39m\u001B[38;5;132;01m{\u001B[39;00mstatements\u001B[38;5;132;01m}\u001B[39;00m\u001B[38;5;124m//\u001B[39m\u001B[38;5;132;01m{\u001B[39;00mans2\u001B[38;5;132;01m}\u001B[39;00m\u001B[38;5;124m/\u001B[39m\u001B[38;5;132;01m{\u001B[39;00mexps\u001B[38;5;132;01m}\u001B[39;00m\u001B[38;5;124m\"\u001B[39m\n",
      "\u001B[1;31mTypeError\u001B[0m: sequence item 0: expected str instance, list found"
     ]
    }
   ],
   "source": [
    "def test0():\n",
    "    print(\"Test 0\")\n",
    "    #ast=get_ast('-5;')\n",
    "    parse('-5;')\n",
    "    print(\"Finish test 0\")\n",
    "\n",
    "test0()"
   ],
   "metadata": {
    "collapsed": false,
    "ExecuteTime": {
     "end_time": "2024-03-29T08:24:41.717804Z",
     "start_time": "2024-03-29T08:24:41.576982Z"
    }
   },
   "id": "f091c3c5574abf97",
   "execution_count": 23
  },
  {
   "cell_type": "code",
   "outputs": [],
   "source": [
    "type(4)"
   ],
   "metadata": {
    "collapsed": false,
    "ExecuteTime": {
     "start_time": "2024-03-29T08:22:22.558098Z"
    }
   },
   "id": "d08c5cdef56b6497",
   "execution_count": null
  },
  {
   "cell_type": "code",
   "outputs": [],
   "source": [],
   "metadata": {
    "collapsed": false,
    "ExecuteTime": {
     "start_time": "2024-03-29T08:22:22.561424Z"
    }
   },
   "id": "f1c3cea9f3a28fe4",
   "execution_count": null
  }
 ],
 "metadata": {
  "kernelspec": {
   "display_name": "Python 3",
   "language": "python",
   "name": "python3"
  },
  "language_info": {
   "codemirror_mode": {
    "name": "ipython",
    "version": 2
   },
   "file_extension": ".py",
   "mimetype": "text/x-python",
   "name": "python",
   "nbconvert_exporter": "python",
   "pygments_lexer": "ipython2",
   "version": "2.7.6"
  }
 },
 "nbformat": 4,
 "nbformat_minor": 5
}
