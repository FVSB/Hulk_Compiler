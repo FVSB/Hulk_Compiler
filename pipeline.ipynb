{
 "cells": [
  {
   "cell_type": "markdown",
   "source": [
    "# PipeLine"
   ],
   "metadata": {
    "collapsed": false
   },
   "id": "4f955c4a26533a02"
  },
  {
   "cell_type": "markdown",
   "source": [
    "## Importar el lexer del Hulk"
   ],
   "metadata": {
    "collapsed": false
   },
   "id": "7907a6cafee98927"
  },
  {
   "cell_type": "code",
   "execution_count": 51,
   "id": "initial_id",
   "metadata": {
    "collapsed": true,
    "ExecuteTime": {
     "end_time": "2024-03-31T06:49:51.901971Z",
     "start_time": "2024-03-31T06:49:51.895617Z"
    }
   },
   "outputs": [],
   "source": [
    "from Hulk.Lexer.Hulk_Lexer import get_hulk_lexer\n"
   ]
  },
  {
   "cell_type": "code",
   "outputs": [
    {
     "name": "stdout",
     "output_type": "stream",
     "text": [
      "Time taken: 0.11357545852661133 seconds\n"
     ]
    }
   ],
   "source": [
    "lexer = get_hulk_lexer()"
   ],
   "metadata": {
    "collapsed": false,
    "ExecuteTime": {
     "end_time": "2024-03-31T06:49:52.341643Z",
     "start_time": "2024-03-31T06:49:52.220394Z"
    }
   },
   "id": "175060ed5811207d",
   "execution_count": 52
  },
  {
   "cell_type": "markdown",
   "source": [
    "## Importar el parser del Hulk"
   ],
   "metadata": {
    "collapsed": false
   },
   "id": "24585b94cae17470"
  },
  {
   "cell_type": "code",
   "outputs": [],
   "source": [
    "from Hulk.Parser.Hulk_Parser import get_hulk_parser"
   ],
   "metadata": {
    "collapsed": false,
    "ExecuteTime": {
     "end_time": "2024-03-31T06:49:52.352624Z",
     "start_time": "2024-03-31T06:49:52.344654Z"
    }
   },
   "id": "59bb4006ca9a16bc",
   "execution_count": 53
  },
  {
   "cell_type": "code",
   "outputs": [
    {
     "name": "stdout",
     "output_type": "stream",
     "text": [
      "Time taken: 0.012999534606933594 seconds\n"
     ]
    }
   ],
   "source": [
    "parser = get_hulk_parser()"
   ],
   "metadata": {
    "collapsed": false,
    "ExecuteTime": {
     "end_time": "2024-03-31T06:49:52.376172Z",
     "start_time": "2024-03-31T06:49:52.355641Z"
    }
   },
   "id": "3602304374b0290a",
   "execution_count": 54
  },
  {
   "cell_type": "markdown",
   "source": [
    "## Importar el evaluardor del Shift Reduce"
   ],
   "metadata": {
    "collapsed": false
   },
   "id": "72328224928edb59"
  },
  {
   "cell_type": "code",
   "outputs": [],
   "source": [
    "from cmp.evaluation import evaluate_reverse_parse"
   ],
   "metadata": {
    "collapsed": false,
    "ExecuteTime": {
     "end_time": "2024-03-31T06:49:52.386448Z",
     "start_time": "2024-03-31T06:49:52.380189Z"
    }
   },
   "id": "82827417abf500e1",
   "execution_count": 55
  },
  {
   "cell_type": "markdown",
   "source": [
    "# Importar el Chequeo Semántico"
   ],
   "metadata": {
    "collapsed": false
   },
   "id": "4c7d407f1a500dbb"
  },
  {
   "cell_type": "code",
   "outputs": [],
   "source": [
    "from Hulk.AST_Semantic.check_type_semantic import InfoSaverTree,TypeBuilder\n",
    "\n"
   ],
   "metadata": {
    "collapsed": false,
    "ExecuteTime": {
     "end_time": "2024-03-31T06:49:52.395206Z",
     "start_time": "2024-03-31T06:49:52.388465Z"
    }
   },
   "id": "46392340b3b3bcc5",
   "execution_count": 56
  },
  {
   "cell_type": "markdown",
   "source": [
    "### Ejemplo a correr"
   ],
   "metadata": {
    "collapsed": false
   },
   "id": "54fd9393c48b128"
  },
  {
   "cell_type": "code",
   "outputs": [],
   "source": [
    "text = ''' \n",
    "\n",
    "type Point {\n",
    "    x = 0;\n",
    "    y = 0;\n",
    "\n",
    "    getX() => self.x;\n",
    "    getY() => self.y;\n",
    "\n",
    "    setX(x) => self.x := x;\n",
    "    setY(y) => self.y := y;\n",
    "}\n",
    "  print(4);\n",
    "\n",
    " '''"
   ],
   "metadata": {
    "collapsed": false,
    "ExecuteTime": {
     "end_time": "2024-03-31T06:49:52.474842Z",
     "start_time": "2024-03-31T06:49:52.467960Z"
    }
   },
   "id": "510ab6e11080cb3f",
   "execution_count": 57
  },
  {
   "cell_type": "markdown",
   "source": [
    "### Tokenizar"
   ],
   "metadata": {
    "collapsed": false
   },
   "id": "28cca2814563c055"
  },
  {
   "cell_type": "markdown",
   "source": [
    "#### Los espacios son tokens de tipo space son eliminados al salir del lexer además el propio parser en caso de llegar una lista de tokens con estos los sabe eliminar"
   ],
   "metadata": {
    "collapsed": false
   },
   "id": "6721eaad4b268d2c"
  },
  {
   "cell_type": "code",
   "outputs": [
    {
     "data": {
      "text/plain": "[type: type,\n type_id: Point,\n {: {,\n id: x,\n =: =,\n number: 0,\n ;: ;,\n id: y,\n =: =,\n number: 0,\n ;: ;,\n id: getX,\n (: (,\n ): ),\n =>: =>,\n id: self,\n .: .,\n id: x,\n ;: ;,\n id: getY,\n (: (,\n ): ),\n =>: =>,\n id: self,\n .: .,\n id: y,\n ;: ;,\n id: setX,\n (: (,\n id: x,\n ): ),\n =>: =>,\n id: self,\n .: .,\n id: x,\n :=: :=,\n id: x,\n ;: ;,\n id: setY,\n (: (,\n id: y,\n ): ),\n =>: =>,\n id: self,\n .: .,\n id: y,\n :=: :=,\n id: y,\n ;: ;,\n }: },\n id: print,\n (: (,\n number: 4,\n ): ),\n ;: ;,\n $: $]"
     },
     "execution_count": 58,
     "metadata": {},
     "output_type": "execute_result"
    }
   ],
   "source": [
    "   tokens = lexer(text)\n",
    "tokens"
   ],
   "metadata": {
    "collapsed": false,
    "ExecuteTime": {
     "end_time": "2024-03-31T06:49:52.546292Z",
     "start_time": "2024-03-31T06:49:52.536692Z"
    }
   },
   "id": "bb732c32c968a59c",
   "execution_count": 58
  },
  {
   "cell_type": "markdown",
   "source": [
    "###  Parsear "
   ],
   "metadata": {
    "collapsed": false
   },
   "id": "872731b897f01b14"
  },
  {
   "cell_type": "code",
   "outputs": [],
   "source": [
    "parse, operations = parser(tokens)"
   ],
   "metadata": {
    "collapsed": false,
    "ExecuteTime": {
     "end_time": "2024-03-31T06:49:52.753537Z",
     "start_time": "2024-03-31T06:49:52.743647Z"
    }
   },
   "id": "54156b66793a88d1",
   "execution_count": 59
  },
  {
   "cell_type": "markdown",
   "source": [
    "#### Las producciones en la pila del shift-reduce"
   ],
   "metadata": {
    "collapsed": false
   },
   "id": "ce89c84d86224dca"
  },
  {
   "cell_type": "code",
   "outputs": [
    {
     "data": {
      "text/plain": "[VarDecl -> id,\n Atom -> number,\n Sign -> Atom,\n Factor -> Sign,\n Term -> Factor,\n NumExpr -> Term,\n Comp -> NumExpr,\n DynTest -> Comp,\n Neg -> DynTest,\n Conj -> Neg,\n Disj -> Conj,\n ArithExpr -> Disj,\n SimpleExpr -> ArithExpr,\n Stat -> SimpleExpr ;,\n VarDecl -> id,\n Atom -> number,\n Sign -> Atom,\n Factor -> Sign,\n Term -> Factor,\n NumExpr -> Term,\n Comp -> NumExpr,\n DynTest -> Comp,\n Neg -> DynTest,\n Conj -> Neg,\n Disj -> Conj,\n ArithExpr -> Disj,\n SimpleExpr -> ArithExpr,\n Stat -> SimpleExpr ;,\n ArgList -> e,\n Atom -> id . id,\n Sign -> Atom,\n Factor -> Sign,\n Term -> Factor,\n NumExpr -> Term,\n Comp -> NumExpr,\n DynTest -> Comp,\n Neg -> DynTest,\n Conj -> Neg,\n Disj -> Conj,\n ArithExpr -> Disj,\n SimpleExpr -> ArithExpr,\n Stat -> SimpleExpr ;,\n Body -> => Stat,\n ArgList -> e,\n Atom -> id . id,\n Sign -> Atom,\n Factor -> Sign,\n Term -> Factor,\n NumExpr -> Term,\n Comp -> NumExpr,\n DynTest -> Comp,\n Neg -> DynTest,\n Conj -> Neg,\n Disj -> Conj,\n ArithExpr -> Disj,\n SimpleExpr -> ArithExpr,\n Stat -> SimpleExpr ;,\n Body -> => Stat,\n VarDecl -> id,\n ArgTail -> e,\n ArgList -> VarDecl ArgTail,\n Atom -> id,\n Sign -> Atom,\n Factor -> Sign,\n Term -> Factor,\n NumExpr -> Term,\n Comp -> NumExpr,\n DynTest -> Comp,\n Neg -> DynTest,\n Conj -> Neg,\n Disj -> Conj,\n ArithExpr -> Disj,\n SimpleExpr -> ArithExpr,\n SimpleExpr -> id . id := SimpleExpr,\n Stat -> SimpleExpr ;,\n Body -> => Stat,\n VarDecl -> id,\n ArgTail -> e,\n ArgList -> VarDecl ArgTail,\n Atom -> id,\n Sign -> Atom,\n Factor -> Sign,\n Term -> Factor,\n NumExpr -> Term,\n Comp -> NumExpr,\n DynTest -> Comp,\n Neg -> DynTest,\n Conj -> Neg,\n Disj -> Conj,\n ArithExpr -> Disj,\n SimpleExpr -> ArithExpr,\n SimpleExpr -> id . id := SimpleExpr,\n Stat -> SimpleExpr ;,\n Body -> => Stat,\n FeatureList -> e,\n FeatureList -> id ( ArgList ) Body FeatureList,\n FeatureList -> id ( ArgList ) Body FeatureList,\n FeatureList -> id ( ArgList ) Body FeatureList,\n FeatureList -> id ( ArgList ) Body FeatureList,\n FeatureList -> VarDecl = Stat FeatureList,\n FeatureList -> VarDecl = Stat FeatureList,\n TypeDecl -> type type_id { FeatureList },\n Decl -> TypeDecl,\n DeclList -> e,\n DeclList -> Decl DeclList,\n Atom -> number,\n Sign -> Atom,\n Factor -> Sign,\n Term -> Factor,\n NumExpr -> Term,\n Comp -> NumExpr,\n DynTest -> Comp,\n Neg -> DynTest,\n Conj -> Neg,\n Disj -> Conj,\n ArithExpr -> Disj,\n SimpleExpr -> ArithExpr,\n Expr -> SimpleExpr,\n ExprTail -> e,\n ExprList -> Expr ExprTail,\n Atom -> id ( ExprList ),\n Sign -> Atom,\n Factor -> Sign,\n Term -> Factor,\n NumExpr -> Term,\n Comp -> NumExpr,\n DynTest -> Comp,\n Neg -> DynTest,\n Conj -> Neg,\n Disj -> Conj,\n ArithExpr -> Disj,\n SimpleExpr -> ArithExpr,\n Stat -> SimpleExpr ;,\n Program -> DeclList Stat]"
     },
     "execution_count": 60,
     "metadata": {},
     "output_type": "execute_result"
    }
   ],
   "source": [
    "parse"
   ],
   "metadata": {
    "collapsed": false,
    "ExecuteTime": {
     "end_time": "2024-03-31T06:49:52.841246Z",
     "start_time": "2024-03-31T06:49:52.828085Z"
    }
   },
   "id": "1c96f1db54b8d09e",
   "execution_count": 60
  },
  {
   "cell_type": "markdown",
   "source": [
    "#### Las operaciones Shift-Reduce"
   ],
   "metadata": {
    "collapsed": false
   },
   "id": "133164485d4c26f0"
  },
  {
   "cell_type": "code",
   "outputs": [
    {
     "data": {
      "text/plain": "['SHIFT',\n 'SHIFT',\n 'SHIFT',\n 'SHIFT',\n 'REDUCE',\n 'SHIFT',\n 'SHIFT',\n 'REDUCE',\n 'REDUCE',\n 'REDUCE',\n 'REDUCE',\n 'REDUCE',\n 'REDUCE',\n 'REDUCE',\n 'REDUCE',\n 'REDUCE',\n 'REDUCE',\n 'REDUCE',\n 'REDUCE',\n 'SHIFT',\n 'REDUCE',\n 'SHIFT',\n 'REDUCE',\n 'SHIFT',\n 'SHIFT',\n 'REDUCE',\n 'REDUCE',\n 'REDUCE',\n 'REDUCE',\n 'REDUCE',\n 'REDUCE',\n 'REDUCE',\n 'REDUCE',\n 'REDUCE',\n 'REDUCE',\n 'REDUCE',\n 'REDUCE',\n 'SHIFT',\n 'REDUCE',\n 'SHIFT',\n 'SHIFT',\n 'REDUCE',\n 'SHIFT',\n 'SHIFT',\n 'SHIFT',\n 'SHIFT',\n 'SHIFT',\n 'REDUCE',\n 'REDUCE',\n 'REDUCE',\n 'REDUCE',\n 'REDUCE',\n 'REDUCE',\n 'REDUCE',\n 'REDUCE',\n 'REDUCE',\n 'REDUCE',\n 'REDUCE',\n 'REDUCE',\n 'SHIFT',\n 'REDUCE',\n 'REDUCE',\n 'SHIFT',\n 'SHIFT',\n 'REDUCE',\n 'SHIFT',\n 'SHIFT',\n 'SHIFT',\n 'SHIFT',\n 'SHIFT',\n 'REDUCE',\n 'REDUCE',\n 'REDUCE',\n 'REDUCE',\n 'REDUCE',\n 'REDUCE',\n 'REDUCE',\n 'REDUCE',\n 'REDUCE',\n 'REDUCE',\n 'REDUCE',\n 'REDUCE',\n 'SHIFT',\n 'REDUCE',\n 'REDUCE',\n 'SHIFT',\n 'SHIFT',\n 'SHIFT',\n 'REDUCE',\n 'REDUCE',\n 'REDUCE',\n 'SHIFT',\n 'SHIFT',\n 'SHIFT',\n 'SHIFT',\n 'SHIFT',\n 'SHIFT',\n 'SHIFT',\n 'REDUCE',\n 'REDUCE',\n 'REDUCE',\n 'REDUCE',\n 'REDUCE',\n 'REDUCE',\n 'REDUCE',\n 'REDUCE',\n 'REDUCE',\n 'REDUCE',\n 'REDUCE',\n 'REDUCE',\n 'REDUCE',\n 'SHIFT',\n 'REDUCE',\n 'REDUCE',\n 'SHIFT',\n 'SHIFT',\n 'SHIFT',\n 'REDUCE',\n 'REDUCE',\n 'REDUCE',\n 'SHIFT',\n 'SHIFT',\n 'SHIFT',\n 'SHIFT',\n 'SHIFT',\n 'SHIFT',\n 'SHIFT',\n 'REDUCE',\n 'REDUCE',\n 'REDUCE',\n 'REDUCE',\n 'REDUCE',\n 'REDUCE',\n 'REDUCE',\n 'REDUCE',\n 'REDUCE',\n 'REDUCE',\n 'REDUCE',\n 'REDUCE',\n 'REDUCE',\n 'SHIFT',\n 'REDUCE',\n 'REDUCE',\n 'REDUCE',\n 'REDUCE',\n 'REDUCE',\n 'REDUCE',\n 'REDUCE',\n 'REDUCE',\n 'REDUCE',\n 'SHIFT',\n 'REDUCE',\n 'REDUCE',\n 'REDUCE',\n 'REDUCE',\n 'SHIFT',\n 'SHIFT',\n 'SHIFT',\n 'REDUCE',\n 'REDUCE',\n 'REDUCE',\n 'REDUCE',\n 'REDUCE',\n 'REDUCE',\n 'REDUCE',\n 'REDUCE',\n 'REDUCE',\n 'REDUCE',\n 'REDUCE',\n 'REDUCE',\n 'REDUCE',\n 'REDUCE',\n 'REDUCE',\n 'SHIFT',\n 'REDUCE',\n 'REDUCE',\n 'REDUCE',\n 'REDUCE',\n 'REDUCE',\n 'REDUCE',\n 'REDUCE',\n 'REDUCE',\n 'REDUCE',\n 'REDUCE',\n 'REDUCE',\n 'REDUCE',\n 'SHIFT',\n 'REDUCE',\n 'REDUCE']"
     },
     "execution_count": 61,
     "metadata": {},
     "output_type": "execute_result"
    }
   ],
   "source": [
    "operations"
   ],
   "metadata": {
    "collapsed": false,
    "ExecuteTime": {
     "end_time": "2024-03-31T06:49:52.967331Z",
     "start_time": "2024-03-31T06:49:52.952538Z"
    }
   },
   "id": "523d1f0e2397c78f",
   "execution_count": 61
  },
  {
   "cell_type": "markdown",
   "source": [
    "### Generar Ast"
   ],
   "metadata": {
    "collapsed": false
   },
   "id": "f8dfcb9bf37532e8"
  },
  {
   "cell_type": "code",
   "outputs": [
    {
     "data": {
      "text/plain": "<Hulk.tools.Ast.ProgramNode at 0x1af71130710>"
     },
     "execution_count": 62,
     "metadata": {},
     "output_type": "execute_result"
    }
   ],
   "source": [
    "  ast = evaluate_reverse_parse(parse, operations, tokens)\n",
    "ast"
   ],
   "metadata": {
    "collapsed": false,
    "ExecuteTime": {
     "end_time": "2024-03-31T06:49:53.000439Z",
     "start_time": "2024-03-31T06:49:52.988954Z"
    }
   },
   "id": "719f2af375f04280",
   "execution_count": 62
  },
  {
   "cell_type": "markdown",
   "source": [
    "### Chequeo Semántico"
   ],
   "metadata": {
    "collapsed": false
   },
   "id": "be097f65bc8fc6bd"
  },
  {
   "cell_type": "markdown",
   "source": [
    "errors lista donde se guardarán los errores que puedan ocurrir"
   ],
   "metadata": {
    "collapsed": false
   },
   "id": "d6b39a45cd4e8682"
  },
  {
   "cell_type": "code",
   "outputs": [],
   "source": [
    " errors = []"
   ],
   "metadata": {
    "collapsed": false,
    "ExecuteTime": {
     "end_time": "2024-03-31T06:49:53.116952Z",
     "start_time": "2024-03-31T06:49:53.109087Z"
    }
   },
   "id": "106fa393dbdc7236",
   "execution_count": 63
  },
  {
   "cell_type": "markdown",
   "source": [
    "### Esta clase es la encargada de hacer el chequeo semántico"
   ],
   "metadata": {
    "collapsed": false
   },
   "id": "42b9bdb37ffa5ae9"
  },
  {
   "cell_type": "code",
   "outputs": [
    {
     "data": {
      "text/plain": "<Hulk.AST_Semantic.check_type_semantic.InfoSaverTree at 0x1af72380810>"
     },
     "execution_count": 64,
     "metadata": {},
     "output_type": "execute_result"
    }
   ],
   "source": [
    "info_collector=InfoSaverTree(errors)\n",
    "info_collector"
   ],
   "metadata": {
    "collapsed": false,
    "ExecuteTime": {
     "end_time": "2024-03-31T06:49:53.220961Z",
     "start_time": "2024-03-31T06:49:53.211381Z"
    }
   },
   "id": "730cf5a5b4ffb66f",
   "execution_count": 64
  },
  {
   "cell_type": "markdown",
   "source": [
    "### Hacer visit por el Ast"
   ],
   "metadata": {
    "collapsed": false
   },
   "id": "e4de4337ed8c49c"
  },
  {
   "cell_type": "code",
   "outputs": [],
   "source": [
    " info_collector.visit(ast)"
   ],
   "metadata": {
    "collapsed": false,
    "ExecuteTime": {
     "end_time": "2024-03-31T06:49:53.246415Z",
     "start_time": "2024-03-31T06:49:53.239973Z"
    }
   },
   "id": "6b3e3b60be3fe326",
   "execution_count": 65
  },
  {
   "cell_type": "markdown",
   "source": [
    "# Funciones y types declarados"
   ],
   "metadata": {
    "collapsed": false
   },
   "id": "e61b41887077c0fa"
  },
  {
   "cell_type": "code",
   "outputs": [
    {
     "data": {
      "text/plain": "Types: {\n\ttype Number {}\n\t\n\ttype String {}\n\t\n\ttype Bool {}\n\t\n\ttype None {}\n\t\n\ttype <error> {}\n\t\n\ttype Point {}\n\t\n}\nFunctions: {\n\tfunc sin (angle:Number) :Number\n\tfunc cos (angle:Number) :Number\n\tfunc print (value:Object) :None\n\tfunc log (base:Number, value:Number) :Number\n\tfunc sqrt (value:Number) :Number\n\tfunc exp (value:Number) :Number\n\tfunc rand () :Number\n}"
     },
     "execution_count": 66,
     "metadata": {},
     "output_type": "execute_result"
    }
   ],
   "source": [
    "context = info_collector.context\n",
    "context"
   ],
   "metadata": {
    "collapsed": false,
    "ExecuteTime": {
     "end_time": "2024-03-31T06:49:53.447255Z",
     "start_time": "2024-03-31T06:49:53.434536Z"
    }
   },
   "id": "25a4f604310dadf4",
   "execution_count": 66
  },
  {
   "cell_type": "markdown",
   "source": [
    "## Realizar comprobación del tipado"
   ],
   "metadata": {
    "collapsed": false
   },
   "id": "c125ba32c204a3e4"
  },
  {
   "cell_type": "code",
   "outputs": [],
   "source": [
    "builder = TypeBuilder(context, errors)\n",
    "builder.visit(ast)"
   ],
   "metadata": {
    "collapsed": false,
    "ExecuteTime": {
     "end_time": "2024-03-31T06:49:53.560604Z",
     "start_time": "2024-03-31T06:49:53.550948Z"
    }
   },
   "id": "905a6f6cfbb8a9d3",
   "execution_count": 67
  },
  {
   "cell_type": "markdown",
   "source": [
    "# Imprimir el contexto con la inferencia de tipos"
   ],
   "metadata": {
    "collapsed": false
   },
   "id": "db41a98aaff0ab61"
  },
  {
   "cell_type": "code",
   "outputs": [
    {
     "data": {
      "text/plain": "Types: {\n\ttype Number {}\n\t\n\ttype String {}\n\t\n\ttype Bool {}\n\t\n\ttype None {}\n\t\n\ttype <error> {}\n\t\n\ttype Point {\n\t\t[attrib] x : None;\n\t\t[attrib] y : None;\n\t\t[method] getX(): None;\n\t\t[method] getY(): None;\n\t\t[method] setX(x:None): None;\n\t\t[method] setY(y:None): None;\n\t}\n\t\n}\nFunctions: {\n\tfunc sin (angle:Number) :Number\n\tfunc cos (angle:Number) :Number\n\tfunc print (value:Object) :None\n\tfunc log (base:Number, value:Number) :Number\n\tfunc sqrt (value:Number) :Number\n\tfunc exp (value:Number) :Number\n\tfunc rand () :Number\n}"
     },
     "execution_count": 68,
     "metadata": {},
     "output_type": "execute_result"
    }
   ],
   "source": [
    "context"
   ],
   "metadata": {
    "collapsed": false,
    "ExecuteTime": {
     "end_time": "2024-03-31T06:49:53.645711Z",
     "start_time": "2024-03-31T06:49:53.635088Z"
    }
   },
   "id": "1d1f953fae0a9d9e",
   "execution_count": 68
  },
  {
   "cell_type": "markdown",
   "source": [
    "# Para correr los códigos que quieras de prueba ir a main.py"
   ],
   "metadata": {
    "collapsed": false
   },
   "id": "5212ed404dd841c8"
  },
  {
   "cell_type": "code",
   "outputs": [],
   "source": [],
   "metadata": {
    "collapsed": false,
    "ExecuteTime": {
     "end_time": "2024-03-31T06:49:53.712368Z",
     "start_time": "2024-03-31T06:49:53.708095Z"
    }
   },
   "id": "1b1566290bbc6181",
   "execution_count": 68
  }
 ],
 "metadata": {
  "kernelspec": {
   "display_name": "Python 3",
   "language": "python",
   "name": "python3"
  },
  "language_info": {
   "codemirror_mode": {
    "name": "ipython",
    "version": 2
   },
   "file_extension": ".py",
   "mimetype": "text/x-python",
   "name": "python",
   "nbconvert_exporter": "python",
   "pygments_lexer": "ipython2",
   "version": "2.7.6"
  }
 },
 "nbformat": 4,
 "nbformat_minor": 5
}
