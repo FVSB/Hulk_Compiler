{
 "cells": [
  {
   "cell_type": "markdown",
   "source": [
    "# PipeLine"
   ],
   "metadata": {
    "collapsed": false
   },
   "id": "788668e6b72e39c4"
  },
  {
   "cell_type": "markdown",
   "source": [
    "## Importar el lexer del Hulk"
   ],
   "metadata": {
    "collapsed": false
   },
   "id": "7907a6cafee98927"
  },
  {
   "cell_type": "code",
   "execution_count": 1,
   "id": "initial_id",
   "metadata": {
    "collapsed": true,
    "ExecuteTime": {
     "end_time": "2024-03-31T06:55:18.261166Z",
     "start_time": "2024-03-31T06:55:18.026896Z"
    }
   },
   "outputs": [],
   "source": [
    "from Hulk.Lexer.Hulk_Lexer import get_hulk_lexer\n"
   ]
  },
  {
   "cell_type": "code",
   "outputs": [
    {
     "name": "stdout",
     "output_type": "stream",
     "text": [
      "Time taken: 0.08838534355163574 seconds\n"
     ]
    }
   ],
   "source": [
    "lexer = get_hulk_lexer()"
   ],
   "metadata": {
    "collapsed": false,
    "ExecuteTime": {
     "end_time": "2024-03-31T06:55:18.368818Z",
     "start_time": "2024-03-31T06:55:18.266373Z"
    }
   },
   "id": "175060ed5811207d",
   "execution_count": 2
  },
  {
   "cell_type": "markdown",
   "source": [
    "## Importar el parser del Hulk"
   ],
   "metadata": {
    "collapsed": false
   },
   "id": "24585b94cae17470"
  },
  {
   "cell_type": "code",
   "outputs": [
    {
     "name": "stdout",
     "output_type": "stream",
     "text": [
      "Ready the Parser\n"
     ]
    }
   ],
   "source": [
    "from Hulk.Parser.Hulk_Parser import get_hulk_parser"
   ],
   "metadata": {
    "collapsed": false,
    "ExecuteTime": {
     "end_time": "2024-03-31T06:55:19.849773Z",
     "start_time": "2024-03-31T06:55:18.371834Z"
    }
   },
   "id": "59bb4006ca9a16bc",
   "execution_count": 3
  },
  {
   "cell_type": "code",
   "outputs": [
    {
     "name": "stdout",
     "output_type": "stream",
     "text": [
      "Time taken: 0.023692607879638672 seconds\n"
     ]
    }
   ],
   "source": [
    "parser = get_hulk_parser()"
   ],
   "metadata": {
    "collapsed": false,
    "ExecuteTime": {
     "end_time": "2024-03-31T06:55:19.885637Z",
     "start_time": "2024-03-31T06:55:19.853296Z"
    }
   },
   "id": "3602304374b0290a",
   "execution_count": 4
  },
  {
   "cell_type": "markdown",
   "source": [
    "## Importar el evaluardor del Shift Reduce"
   ],
   "metadata": {
    "collapsed": false
   },
   "id": "72328224928edb59"
  },
  {
   "cell_type": "code",
   "outputs": [],
   "source": [
    "from cmp.evaluation import evaluate_reverse_parse"
   ],
   "metadata": {
    "collapsed": false,
    "ExecuteTime": {
     "end_time": "2024-03-31T06:55:19.905445Z",
     "start_time": "2024-03-31T06:55:19.891646Z"
    }
   },
   "id": "82827417abf500e1",
   "execution_count": 5
  },
  {
   "cell_type": "markdown",
   "source": [
    "# Importar el Chequeo Semántico"
   ],
   "metadata": {
    "collapsed": false
   },
   "id": "4c7d407f1a500dbb"
  },
  {
   "cell_type": "code",
   "outputs": [],
   "source": [
    "from Hulk.AST_Semantic.check_type_semantic import InfoSaverTree,TypeBuilder\n",
    "\n"
   ],
   "metadata": {
    "collapsed": false,
    "ExecuteTime": {
     "end_time": "2024-03-31T06:55:19.935987Z",
     "start_time": "2024-03-31T06:55:19.908457Z"
    }
   },
   "id": "46392340b3b3bcc5",
   "execution_count": 6
  },
  {
   "cell_type": "markdown",
   "source": [
    "### Ejemplo a correr"
   ],
   "metadata": {
    "collapsed": false
   },
   "id": "54fd9393c48b128"
  },
  {
   "cell_type": "code",
   "outputs": [],
   "source": [
    "text = ''' \n",
    "\n",
    "type Point {\n",
    "    x = 0;\n",
    "    y = 0;\n",
    "\n",
    "    getX() => self.x;\n",
    "    getY() => self.y;\n",
    "\n",
    "    setX(x) => self.x := x;\n",
    "    setY(y) => self.y := y;\n",
    "}\n",
    "  print(4);\n",
    "\n",
    " '''"
   ],
   "metadata": {
    "collapsed": false,
    "ExecuteTime": {
     "end_time": "2024-03-31T06:55:19.947127Z",
     "start_time": "2024-03-31T06:55:19.939013Z"
    }
   },
   "id": "510ab6e11080cb3f",
   "execution_count": 7
  },
  {
   "cell_type": "markdown",
   "source": [
    "### Tokenizar"
   ],
   "metadata": {
    "collapsed": false
   },
   "id": "28cca2814563c055"
  },
  {
   "cell_type": "markdown",
   "source": [
    "#### Los espacios son tokens de tipo space son eliminados al salir del lexer además el propio parser en caso de llegar una lista de tokens con estos los sabe eliminar"
   ],
   "metadata": {
    "collapsed": false
   },
   "id": "6721eaad4b268d2c"
  },
  {
   "cell_type": "code",
   "outputs": [
    {
     "data": {
      "text/plain": "[type: type,\n type_id: Point,\n {: {,\n id: x,\n =: =,\n number: 0,\n ;: ;,\n id: y,\n =: =,\n number: 0,\n ;: ;,\n id: getX,\n (: (,\n ): ),\n =>: =>,\n id: self,\n .: .,\n id: x,\n ;: ;,\n id: getY,\n (: (,\n ): ),\n =>: =>,\n id: self,\n .: .,\n id: y,\n ;: ;,\n id: setX,\n (: (,\n id: x,\n ): ),\n =>: =>,\n id: self,\n .: .,\n id: x,\n :=: :=,\n id: x,\n ;: ;,\n id: setY,\n (: (,\n id: y,\n ): ),\n =>: =>,\n id: self,\n .: .,\n id: y,\n :=: :=,\n id: y,\n ;: ;,\n }: },\n id: print,\n (: (,\n number: 4,\n ): ),\n ;: ;,\n $: $]"
     },
     "execution_count": 8,
     "metadata": {},
     "output_type": "execute_result"
    }
   ],
   "source": [
    "   tokens = lexer(text)\n",
    "tokens"
   ],
   "metadata": {
    "collapsed": false,
    "ExecuteTime": {
     "end_time": "2024-03-31T06:55:19.969153Z",
     "start_time": "2024-03-31T06:55:19.950139Z"
    }
   },
   "id": "bb732c32c968a59c",
   "execution_count": 8
  },
  {
   "cell_type": "markdown",
   "source": [
    "###  Parsear "
   ],
   "metadata": {
    "collapsed": false
   },
   "id": "872731b897f01b14"
  },
  {
   "cell_type": "code",
   "outputs": [],
   "source": [
    "parse, operations = parser(tokens)"
   ],
   "metadata": {
    "collapsed": false,
    "ExecuteTime": {
     "end_time": "2024-03-31T06:55:19.980782Z",
     "start_time": "2024-03-31T06:55:19.972362Z"
    }
   },
   "id": "54156b66793a88d1",
   "execution_count": 9
  },
  {
   "cell_type": "markdown",
   "source": [
    "#### Las producciones en la pila del shift-reduce"
   ],
   "metadata": {
    "collapsed": false
   },
   "id": "ce89c84d86224dca"
  },
  {
   "cell_type": "code",
   "outputs": [
    {
     "data": {
      "text/plain": "[VarDecl -> id,\n Atom -> number,\n Sign -> Atom,\n Factor -> Sign,\n Term -> Factor,\n NumExpr -> Term,\n Comp -> NumExpr,\n DynTest -> Comp,\n Neg -> DynTest,\n Conj -> Neg,\n Disj -> Conj,\n ArithExpr -> Disj,\n SimpleExpr -> ArithExpr,\n Stat -> SimpleExpr ;,\n VarDecl -> id,\n Atom -> number,\n Sign -> Atom,\n Factor -> Sign,\n Term -> Factor,\n NumExpr -> Term,\n Comp -> NumExpr,\n DynTest -> Comp,\n Neg -> DynTest,\n Conj -> Neg,\n Disj -> Conj,\n ArithExpr -> Disj,\n SimpleExpr -> ArithExpr,\n Stat -> SimpleExpr ;,\n ArgList -> e,\n Atom -> id . id,\n Sign -> Atom,\n Factor -> Sign,\n Term -> Factor,\n NumExpr -> Term,\n Comp -> NumExpr,\n DynTest -> Comp,\n Neg -> DynTest,\n Conj -> Neg,\n Disj -> Conj,\n ArithExpr -> Disj,\n SimpleExpr -> ArithExpr,\n Stat -> SimpleExpr ;,\n Body -> => Stat,\n ArgList -> e,\n Atom -> id . id,\n Sign -> Atom,\n Factor -> Sign,\n Term -> Factor,\n NumExpr -> Term,\n Comp -> NumExpr,\n DynTest -> Comp,\n Neg -> DynTest,\n Conj -> Neg,\n Disj -> Conj,\n ArithExpr -> Disj,\n SimpleExpr -> ArithExpr,\n Stat -> SimpleExpr ;,\n Body -> => Stat,\n VarDecl -> id,\n ArgTail -> e,\n ArgList -> VarDecl ArgTail,\n Atom -> id,\n Sign -> Atom,\n Factor -> Sign,\n Term -> Factor,\n NumExpr -> Term,\n Comp -> NumExpr,\n DynTest -> Comp,\n Neg -> DynTest,\n Conj -> Neg,\n Disj -> Conj,\n ArithExpr -> Disj,\n SimpleExpr -> ArithExpr,\n SimpleExpr -> id . id := SimpleExpr,\n Stat -> SimpleExpr ;,\n Body -> => Stat,\n VarDecl -> id,\n ArgTail -> e,\n ArgList -> VarDecl ArgTail,\n Atom -> id,\n Sign -> Atom,\n Factor -> Sign,\n Term -> Factor,\n NumExpr -> Term,\n Comp -> NumExpr,\n DynTest -> Comp,\n Neg -> DynTest,\n Conj -> Neg,\n Disj -> Conj,\n ArithExpr -> Disj,\n SimpleExpr -> ArithExpr,\n SimpleExpr -> id . id := SimpleExpr,\n Stat -> SimpleExpr ;,\n Body -> => Stat,\n FeatureList -> e,\n FeatureList -> id ( ArgList ) Body FeatureList,\n FeatureList -> id ( ArgList ) Body FeatureList,\n FeatureList -> id ( ArgList ) Body FeatureList,\n FeatureList -> id ( ArgList ) Body FeatureList,\n FeatureList -> VarDecl = Stat FeatureList,\n FeatureList -> VarDecl = Stat FeatureList,\n TypeDecl -> type type_id { FeatureList },\n Decl -> TypeDecl,\n DeclList -> e,\n DeclList -> Decl DeclList,\n Atom -> number,\n Sign -> Atom,\n Factor -> Sign,\n Term -> Factor,\n NumExpr -> Term,\n Comp -> NumExpr,\n DynTest -> Comp,\n Neg -> DynTest,\n Conj -> Neg,\n Disj -> Conj,\n ArithExpr -> Disj,\n SimpleExpr -> ArithExpr,\n Expr -> SimpleExpr,\n ExprTail -> e,\n ExprList -> Expr ExprTail,\n Atom -> id ( ExprList ),\n Sign -> Atom,\n Factor -> Sign,\n Term -> Factor,\n NumExpr -> Term,\n Comp -> NumExpr,\n DynTest -> Comp,\n Neg -> DynTest,\n Conj -> Neg,\n Disj -> Conj,\n ArithExpr -> Disj,\n SimpleExpr -> ArithExpr,\n Stat -> SimpleExpr ;,\n Program -> DeclList Stat]"
     },
     "execution_count": 10,
     "metadata": {},
     "output_type": "execute_result"
    }
   ],
   "source": [
    "parse"
   ],
   "metadata": {
    "collapsed": false,
    "ExecuteTime": {
     "end_time": "2024-03-31T06:55:19.999344Z",
     "start_time": "2024-03-31T06:55:19.983797Z"
    }
   },
   "id": "1c96f1db54b8d09e",
   "execution_count": 10
  },
  {
   "cell_type": "markdown",
   "source": [
    "#### Las operaciones Shift-Reduce"
   ],
   "metadata": {
    "collapsed": false
   },
   "id": "133164485d4c26f0"
  },
  {
   "cell_type": "code",
   "outputs": [
    {
     "data": {
      "text/plain": "['SHIFT',\n 'SHIFT',\n 'SHIFT',\n 'SHIFT',\n 'REDUCE',\n 'SHIFT',\n 'SHIFT',\n 'REDUCE',\n 'REDUCE',\n 'REDUCE',\n 'REDUCE',\n 'REDUCE',\n 'REDUCE',\n 'REDUCE',\n 'REDUCE',\n 'REDUCE',\n 'REDUCE',\n 'REDUCE',\n 'REDUCE',\n 'SHIFT',\n 'REDUCE',\n 'SHIFT',\n 'REDUCE',\n 'SHIFT',\n 'SHIFT',\n 'REDUCE',\n 'REDUCE',\n 'REDUCE',\n 'REDUCE',\n 'REDUCE',\n 'REDUCE',\n 'REDUCE',\n 'REDUCE',\n 'REDUCE',\n 'REDUCE',\n 'REDUCE',\n 'REDUCE',\n 'SHIFT',\n 'REDUCE',\n 'SHIFT',\n 'SHIFT',\n 'REDUCE',\n 'SHIFT',\n 'SHIFT',\n 'SHIFT',\n 'SHIFT',\n 'SHIFT',\n 'REDUCE',\n 'REDUCE',\n 'REDUCE',\n 'REDUCE',\n 'REDUCE',\n 'REDUCE',\n 'REDUCE',\n 'REDUCE',\n 'REDUCE',\n 'REDUCE',\n 'REDUCE',\n 'REDUCE',\n 'SHIFT',\n 'REDUCE',\n 'REDUCE',\n 'SHIFT',\n 'SHIFT',\n 'REDUCE',\n 'SHIFT',\n 'SHIFT',\n 'SHIFT',\n 'SHIFT',\n 'SHIFT',\n 'REDUCE',\n 'REDUCE',\n 'REDUCE',\n 'REDUCE',\n 'REDUCE',\n 'REDUCE',\n 'REDUCE',\n 'REDUCE',\n 'REDUCE',\n 'REDUCE',\n 'REDUCE',\n 'REDUCE',\n 'SHIFT',\n 'REDUCE',\n 'REDUCE',\n 'SHIFT',\n 'SHIFT',\n 'SHIFT',\n 'REDUCE',\n 'REDUCE',\n 'REDUCE',\n 'SHIFT',\n 'SHIFT',\n 'SHIFT',\n 'SHIFT',\n 'SHIFT',\n 'SHIFT',\n 'SHIFT',\n 'REDUCE',\n 'REDUCE',\n 'REDUCE',\n 'REDUCE',\n 'REDUCE',\n 'REDUCE',\n 'REDUCE',\n 'REDUCE',\n 'REDUCE',\n 'REDUCE',\n 'REDUCE',\n 'REDUCE',\n 'REDUCE',\n 'SHIFT',\n 'REDUCE',\n 'REDUCE',\n 'SHIFT',\n 'SHIFT',\n 'SHIFT',\n 'REDUCE',\n 'REDUCE',\n 'REDUCE',\n 'SHIFT',\n 'SHIFT',\n 'SHIFT',\n 'SHIFT',\n 'SHIFT',\n 'SHIFT',\n 'SHIFT',\n 'REDUCE',\n 'REDUCE',\n 'REDUCE',\n 'REDUCE',\n 'REDUCE',\n 'REDUCE',\n 'REDUCE',\n 'REDUCE',\n 'REDUCE',\n 'REDUCE',\n 'REDUCE',\n 'REDUCE',\n 'REDUCE',\n 'SHIFT',\n 'REDUCE',\n 'REDUCE',\n 'REDUCE',\n 'REDUCE',\n 'REDUCE',\n 'REDUCE',\n 'REDUCE',\n 'REDUCE',\n 'REDUCE',\n 'SHIFT',\n 'REDUCE',\n 'REDUCE',\n 'REDUCE',\n 'REDUCE',\n 'SHIFT',\n 'SHIFT',\n 'SHIFT',\n 'REDUCE',\n 'REDUCE',\n 'REDUCE',\n 'REDUCE',\n 'REDUCE',\n 'REDUCE',\n 'REDUCE',\n 'REDUCE',\n 'REDUCE',\n 'REDUCE',\n 'REDUCE',\n 'REDUCE',\n 'REDUCE',\n 'REDUCE',\n 'REDUCE',\n 'SHIFT',\n 'REDUCE',\n 'REDUCE',\n 'REDUCE',\n 'REDUCE',\n 'REDUCE',\n 'REDUCE',\n 'REDUCE',\n 'REDUCE',\n 'REDUCE',\n 'REDUCE',\n 'REDUCE',\n 'REDUCE',\n 'SHIFT',\n 'REDUCE',\n 'REDUCE']"
     },
     "execution_count": 11,
     "metadata": {},
     "output_type": "execute_result"
    }
   ],
   "source": [
    "operations"
   ],
   "metadata": {
    "collapsed": false,
    "ExecuteTime": {
     "end_time": "2024-03-31T06:55:20.017542Z",
     "start_time": "2024-03-31T06:55:20.002360Z"
    }
   },
   "id": "523d1f0e2397c78f",
   "execution_count": 11
  },
  {
   "cell_type": "markdown",
   "source": [
    "### Generar Ast"
   ],
   "metadata": {
    "collapsed": false
   },
   "id": "f8dfcb9bf37532e8"
  },
  {
   "cell_type": "code",
   "outputs": [
    {
     "data": {
      "text/plain": "<Hulk.tools.Ast.ProgramNode at 0x24102529190>"
     },
     "execution_count": 12,
     "metadata": {},
     "output_type": "execute_result"
    }
   ],
   "source": [
    "  ast = evaluate_reverse_parse(parse, operations, tokens)\n",
    "ast"
   ],
   "metadata": {
    "collapsed": false,
    "ExecuteTime": {
     "end_time": "2024-03-31T06:55:20.035734Z",
     "start_time": "2024-03-31T06:55:20.020549Z"
    }
   },
   "id": "719f2af375f04280",
   "execution_count": 12
  },
  {
   "cell_type": "markdown",
   "source": [
    "### Chequeo Semántico"
   ],
   "metadata": {
    "collapsed": false
   },
   "id": "be097f65bc8fc6bd"
  },
  {
   "cell_type": "markdown",
   "source": [
    "errors lista donde se guardarán los errores que puedan ocurrir"
   ],
   "metadata": {
    "collapsed": false
   },
   "id": "d6b39a45cd4e8682"
  },
  {
   "cell_type": "code",
   "outputs": [],
   "source": [
    " errors = []"
   ],
   "metadata": {
    "collapsed": false,
    "ExecuteTime": {
     "end_time": "2024-03-31T06:55:20.046008Z",
     "start_time": "2024-03-31T06:55:20.039757Z"
    }
   },
   "id": "106fa393dbdc7236",
   "execution_count": 13
  },
  {
   "cell_type": "markdown",
   "source": [
    "### Esta clase es la encargada de hacer el chequeo semántico"
   ],
   "metadata": {
    "collapsed": false
   },
   "id": "42b9bdb37ffa5ae9"
  },
  {
   "cell_type": "code",
   "outputs": [
    {
     "data": {
      "text/plain": "<Hulk.AST_Semantic.check_type_semantic.InfoSaverTree at 0x2417fa5add0>"
     },
     "execution_count": 14,
     "metadata": {},
     "output_type": "execute_result"
    }
   ],
   "source": [
    "info_collector=InfoSaverTree(errors)\n",
    "info_collector"
   ],
   "metadata": {
    "collapsed": false,
    "ExecuteTime": {
     "end_time": "2024-03-31T06:55:20.061708Z",
     "start_time": "2024-03-31T06:55:20.052017Z"
    }
   },
   "id": "730cf5a5b4ffb66f",
   "execution_count": 14
  },
  {
   "cell_type": "markdown",
   "source": [
    "### Hacer visit por el Ast"
   ],
   "metadata": {
    "collapsed": false
   },
   "id": "e4de4337ed8c49c"
  },
  {
   "cell_type": "code",
   "outputs": [],
   "source": [
    " info_collector.visit(ast)"
   ],
   "metadata": {
    "collapsed": false,
    "ExecuteTime": {
     "end_time": "2024-03-31T06:55:20.073186Z",
     "start_time": "2024-03-31T06:55:20.064727Z"
    }
   },
   "id": "6b3e3b60be3fe326",
   "execution_count": 15
  },
  {
   "cell_type": "markdown",
   "source": [
    "# Funciones y types declarados"
   ],
   "metadata": {
    "collapsed": false
   },
   "id": "e61b41887077c0fa"
  },
  {
   "cell_type": "code",
   "outputs": [
    {
     "data": {
      "text/plain": "Types: {\n\ttype Number {}\n\t\n\ttype String {}\n\t\n\ttype Bool {}\n\t\n\ttype None {}\n\t\n\ttype <error> {}\n\t\n\ttype Point {}\n\t\n}\nFunctions: {\n\tfunc sin (angle:Number) :Number\n\tfunc cos (angle:Number) :Number\n\tfunc print (value:Object) :None\n\tfunc log (base:Number, value:Number) :Number\n\tfunc sqrt (value:Number) :Number\n\tfunc exp (value:Number) :Number\n\tfunc rand () :Number\n}"
     },
     "execution_count": 16,
     "metadata": {},
     "output_type": "execute_result"
    }
   ],
   "source": [
    "context = info_collector.context\n",
    "context"
   ],
   "metadata": {
    "collapsed": false,
    "ExecuteTime": {
     "end_time": "2024-03-31T06:55:20.089905Z",
     "start_time": "2024-03-31T06:55:20.077209Z"
    }
   },
   "id": "25a4f604310dadf4",
   "execution_count": 16
  },
  {
   "cell_type": "markdown",
   "source": [
    "## Realizar comprobación del tipado"
   ],
   "metadata": {
    "collapsed": false
   },
   "id": "c125ba32c204a3e4"
  },
  {
   "cell_type": "code",
   "outputs": [],
   "source": [
    "builder = TypeBuilder(context, errors)\n",
    "builder.visit(ast)"
   ],
   "metadata": {
    "collapsed": false,
    "ExecuteTime": {
     "end_time": "2024-03-31T06:55:20.100272Z",
     "start_time": "2024-03-31T06:55:20.091912Z"
    }
   },
   "id": "905a6f6cfbb8a9d3",
   "execution_count": 17
  },
  {
   "cell_type": "markdown",
   "source": [
    "# Imprimir el contexto con la inferencia de tipos"
   ],
   "metadata": {
    "collapsed": false
   },
   "id": "db41a98aaff0ab61"
  },
  {
   "cell_type": "code",
   "outputs": [
    {
     "data": {
      "text/plain": "Types: {\n\ttype Number {}\n\t\n\ttype String {}\n\t\n\ttype Bool {}\n\t\n\ttype None {}\n\t\n\ttype <error> {}\n\t\n\ttype Point {\n\t\t[attrib] x : None;\n\t\t[attrib] y : None;\n\t\t[method] getX(): None;\n\t\t[method] getY(): None;\n\t\t[method] setX(x:None): None;\n\t\t[method] setY(y:None): None;\n\t}\n\t\n}\nFunctions: {\n\tfunc sin (angle:Number) :Number\n\tfunc cos (angle:Number) :Number\n\tfunc print (value:Object) :None\n\tfunc log (base:Number, value:Number) :Number\n\tfunc sqrt (value:Number) :Number\n\tfunc exp (value:Number) :Number\n\tfunc rand () :Number\n}"
     },
     "execution_count": 18,
     "metadata": {},
     "output_type": "execute_result"
    }
   ],
   "source": [
    "context"
   ],
   "metadata": {
    "collapsed": false,
    "ExecuteTime": {
     "end_time": "2024-03-31T06:55:20.117620Z",
     "start_time": "2024-03-31T06:55:20.104283Z"
    }
   },
   "id": "1d1f953fae0a9d9e",
   "execution_count": 18
  },
  {
   "cell_type": "markdown",
   "source": [
    "# Para correr los códigos que quieras de prueba ir a main.py"
   ],
   "metadata": {
    "collapsed": false
   },
   "id": "5212ed404dd841c8"
  },
  {
   "cell_type": "code",
   "outputs": [],
   "source": [],
   "metadata": {
    "collapsed": false,
    "ExecuteTime": {
     "end_time": "2024-03-31T06:55:20.128080Z",
     "start_time": "2024-03-31T06:55:20.121632Z"
    }
   },
   "id": "1b1566290bbc6181",
   "execution_count": 18
  }
 ],
 "metadata": {
  "kernelspec": {
   "display_name": "Python 3",
   "language": "python",
   "name": "python3"
  },
  "language_info": {
   "codemirror_mode": {
    "name": "ipython",
    "version": 2
   },
   "file_extension": ".py",
   "mimetype": "text/x-python",
   "name": "python",
   "nbconvert_exporter": "python",
   "pygments_lexer": "ipython2",
   "version": "2.7.6"
  }
 },
 "nbformat": 4,
 "nbformat_minor": 5
}
