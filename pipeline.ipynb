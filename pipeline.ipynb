{
 "cells": [
  {
   "cell_type": "markdown",
   "id": "788668e6b72e39c4",
   "metadata": {
    "collapsed": false
   },
   "source": [
    "# PipeLine"
   ]
  },
  {
   "cell_type": "markdown",
   "id": "7907a6cafee98927",
   "metadata": {
    "collapsed": false
   },
   "source": [
    "## Importar el lexer del Hulk"
   ]
  },
  {
   "cell_type": "code",
   "execution_count": 2,
   "id": "175060ed5811207d",
   "metadata": {
    "ExecuteTime": {
     "end_time": "2024-03-31T06:55:18.368818Z",
     "start_time": "2024-03-31T06:55:18.266373Z"
    },
    "collapsed": false
   },
   "outputs": [
    {
     "name": "stdout",
     "output_type": "stream",
     "text": [
      "Time taken: 0.08838534355163574 seconds\n"
     ]
    }
   ],
   "source": [
    "lexer = get_hulk_lexer()"
   ]
  },
  {
   "cell_type": "markdown",
   "id": "24585b94cae17470",
   "metadata": {
    "collapsed": false
   },
   "source": [
    "## Importar el parser del Hulk"
   ]
  },
  {
   "cell_type": "code",
   "execution_count": 4,
   "id": "3602304374b0290a",
   "metadata": {
    "ExecuteTime": {
     "end_time": "2024-03-31T06:55:19.885637Z",
     "start_time": "2024-03-31T06:55:19.853296Z"
    },
    "collapsed": false
   },
   "outputs": [
    {
     "name": "stdout",
     "output_type": "stream",
     "text": [
      "Time taken: 0.023692607879638672 seconds\n"
     ]
    }
   ],
   "source": [
    "parser = get_hulk_parser()"
   ]
  },
  {
   "cell_type": "markdown",
   "id": "72328224928edb59",
   "metadata": {
    "collapsed": false
   },
   "source": [
    "## Importar el evaluardor del Shift Reduce"
   ]
  },
  {
   "cell_type": "markdown",
   "id": "4c7d407f1a500dbb",
   "metadata": {
    "collapsed": false
   },
   "source": [
    "# Importar el Chequeo Semántico"
   ]
  },
  {
   "cell_type": "markdown",
   "id": "54fd9393c48b128",
   "metadata": {
    "collapsed": false
   },
   "source": [
    "### Ejemplo a correr"
   ]
  },
  {
   "cell_type": "markdown",
   "id": "6721eaad4b268d2c",
   "metadata": {
    "collapsed": false
   },
   "source": [
    "#### Los espacios son tokens de tipo space son eliminados al salir del lexer además el propio parser en caso de llegar una lista de tokens con estos los sabe eliminar"
   ]
  },
  {
   "cell_type": "markdown",
   "id": "872731b897f01b14",
   "metadata": {
    "collapsed": false
   },
   "source": [
    "###  Parsear "
   ]
  },
  {
   "cell_type": "code",
   "execution_count": 9,
   "id": "54156b66793a88d1",
   "metadata": {
    "ExecuteTime": {
     "end_time": "2024-03-31T06:55:19.980782Z",
     "start_time": "2024-03-31T06:55:19.972362Z"
    },
    "collapsed": false
   },
   "outputs": [],
   "source": [
    "parse, operations = parser(tokens)"
   ]
  },
  {
   "cell_type": "code",
   "execution_count": 10,
   "id": "1c96f1db54b8d09e",
   "metadata": {
    "ExecuteTime": {
     "end_time": "2024-03-31T06:55:19.999344Z",
     "start_time": "2024-03-31T06:55:19.983797Z"
    },
    "collapsed": false
   },
   "outputs": [
    {
     "data": {
      "text/plain": [
       "[VarDecl -> id,\n",
       " Atom -> number,\n",
       " Sign -> Atom,\n",
       " Factor -> Sign,\n",
       " Term -> Factor,\n",
       " NumExpr -> Term,\n",
       " Comp -> NumExpr,\n",
       " DynTest -> Comp,\n",
       " Neg -> DynTest,\n",
       " Conj -> Neg,\n",
       " Disj -> Conj,\n",
       " ArithExpr -> Disj,\n",
       " SimpleExpr -> ArithExpr,\n",
       " Stat -> SimpleExpr ;,\n",
       " VarDecl -> id,\n",
       " Atom -> number,\n",
       " Sign -> Atom,\n",
       " Factor -> Sign,\n",
       " Term -> Factor,\n",
       " NumExpr -> Term,\n",
       " Comp -> NumExpr,\n",
       " DynTest -> Comp,\n",
       " Neg -> DynTest,\n",
       " Conj -> Neg,\n",
       " Disj -> Conj,\n",
       " ArithExpr -> Disj,\n",
       " SimpleExpr -> ArithExpr,\n",
       " Stat -> SimpleExpr ;,\n",
       " ArgList -> e,\n",
       " Atom -> id . id,\n",
       " Sign -> Atom,\n",
       " Factor -> Sign,\n",
       " Term -> Factor,\n",
       " NumExpr -> Term,\n",
       " Comp -> NumExpr,\n",
       " DynTest -> Comp,\n",
       " Neg -> DynTest,\n",
       " Conj -> Neg,\n",
       " Disj -> Conj,\n",
       " ArithExpr -> Disj,\n",
       " SimpleExpr -> ArithExpr,\n",
       " Stat -> SimpleExpr ;,\n",
       " Body -> => Stat,\n",
       " ArgList -> e,\n",
       " Atom -> id . id,\n",
       " Sign -> Atom,\n",
       " Factor -> Sign,\n",
       " Term -> Factor,\n",
       " NumExpr -> Term,\n",
       " Comp -> NumExpr,\n",
       " DynTest -> Comp,\n",
       " Neg -> DynTest,\n",
       " Conj -> Neg,\n",
       " Disj -> Conj,\n",
       " ArithExpr -> Disj,\n",
       " SimpleExpr -> ArithExpr,\n",
       " Stat -> SimpleExpr ;,\n",
       " Body -> => Stat,\n",
       " VarDecl -> id,\n",
       " ArgTail -> e,\n",
       " ArgList -> VarDecl ArgTail,\n",
       " Atom -> id,\n",
       " Sign -> Atom,\n",
       " Factor -> Sign,\n",
       " Term -> Factor,\n",
       " NumExpr -> Term,\n",
       " Comp -> NumExpr,\n",
       " DynTest -> Comp,\n",
       " Neg -> DynTest,\n",
       " Conj -> Neg,\n",
       " Disj -> Conj,\n",
       " ArithExpr -> Disj,\n",
       " SimpleExpr -> ArithExpr,\n",
       " SimpleExpr -> id . id := SimpleExpr,\n",
       " Stat -> SimpleExpr ;,\n",
       " Body -> => Stat,\n",
       " VarDecl -> id,\n",
       " ArgTail -> e,\n",
       " ArgList -> VarDecl ArgTail,\n",
       " Atom -> id,\n",
       " Sign -> Atom,\n",
       " Factor -> Sign,\n",
       " Term -> Factor,\n",
       " NumExpr -> Term,\n",
       " Comp -> NumExpr,\n",
       " DynTest -> Comp,\n",
       " Neg -> DynTest,\n",
       " Conj -> Neg,\n",
       " Disj -> Conj,\n",
       " ArithExpr -> Disj,\n",
       " SimpleExpr -> ArithExpr,\n",
       " SimpleExpr -> id . id := SimpleExpr,\n",
       " Stat -> SimpleExpr ;,\n",
       " Body -> => Stat,\n",
       " FeatureList -> e,\n",
       " FeatureList -> id ( ArgList ) Body FeatureList,\n",
       " FeatureList -> id ( ArgList ) Body FeatureList,\n",
       " FeatureList -> id ( ArgList ) Body FeatureList,\n",
       " FeatureList -> id ( ArgList ) Body FeatureList,\n",
       " FeatureList -> VarDecl = Stat FeatureList,\n",
       " FeatureList -> VarDecl = Stat FeatureList,\n",
       " TypeDecl -> type type_id { FeatureList },\n",
       " Decl -> TypeDecl,\n",
       " DeclList -> e,\n",
       " DeclList -> Decl DeclList,\n",
       " Atom -> number,\n",
       " Sign -> Atom,\n",
       " Factor -> Sign,\n",
       " Term -> Factor,\n",
       " NumExpr -> Term,\n",
       " Comp -> NumExpr,\n",
       " DynTest -> Comp,\n",
       " Neg -> DynTest,\n",
       " Conj -> Neg,\n",
       " Disj -> Conj,\n",
       " ArithExpr -> Disj,\n",
       " SimpleExpr -> ArithExpr,\n",
       " Expr -> SimpleExpr,\n",
       " ExprTail -> e,\n",
       " ExprList -> Expr ExprTail,\n",
       " Atom -> id ( ExprList ),\n",
       " Sign -> Atom,\n",
       " Factor -> Sign,\n",
       " Term -> Factor,\n",
       " NumExpr -> Term,\n",
       " Comp -> NumExpr,\n",
       " DynTest -> Comp,\n",
       " Neg -> DynTest,\n",
       " Conj -> Neg,\n",
       " Disj -> Conj,\n",
       " ArithExpr -> Disj,\n",
       " SimpleExpr -> ArithExpr,\n",
       " Stat -> SimpleExpr ;,\n",
       " Program -> DeclList Stat]"
      ]
     },
     "execution_count": 10,
     "metadata": {},
     "output_type": "execute_result"
    }
   ],
   "source": [
    "parse"
   ]
  },
  {
   "cell_type": "markdown",
   "id": "f8dfcb9bf37532e8",
   "metadata": {
    "collapsed": false
   },
   "source": [
    "### Generar Ast"
   ]
  },
  {
   "cell_type": "markdown",
   "id": "be097f65bc8fc6bd",
   "metadata": {
    "collapsed": false
   },
   "source": [
    "### Chequeo Semántico"
   ]
  },
  {
   "cell_type": "markdown",
   "id": "d6b39a45cd4e8682",
   "metadata": {
    "collapsed": false
   },
   "source": [
    "errors lista donde se guardarán los errores que puedan ocurrir"
   ]
  },
  {
   "cell_type": "markdown",
   "id": "42b9bdb37ffa5ae9",
   "metadata": {
    "collapsed": false
   },
   "source": [
    "### Esta clase es la encargada de hacer el chequeo semántico"
   ]
  },
  {
   "cell_type": "markdown",
   "id": "e4de4337ed8c49c",
   "metadata": {
    "collapsed": false
   },
   "source": [
    "### Hacer visit por el Ast"
   ]
  },
  {
   "cell_type": "code",
   "execution_count": 16,
   "id": "25a4f604310dadf4",
   "metadata": {
    "ExecuteTime": {
     "end_time": "2024-03-31T06:55:20.089905Z",
     "start_time": "2024-03-31T06:55:20.077209Z"
    },
    "collapsed": false
   },
   "outputs": [
    {
     "data": {
      "text/plain": [
       "Types: {\n",
       "\ttype Number {}\n",
       "\t\n",
       "\ttype String {}\n",
       "\t\n",
       "\ttype Bool {}\n",
       "\t\n",
       "\ttype None {}\n",
       "\t\n",
       "\ttype <error> {}\n",
       "\t\n",
       "\ttype Point {}\n",
       "\t\n",
       "}\n",
       "Functions: {\n",
       "\tfunc sin (angle:Number) :Number\n",
       "\tfunc cos (angle:Number) :Number\n",
       "\tfunc print (value:Object) :None\n",
       "\tfunc log (base:Number, value:Number) :Number\n",
       "\tfunc sqrt (value:Number) :Number\n",
       "\tfunc exp (value:Number) :Number\n",
       "\tfunc rand () :Number\n",
       "}"
      ]
     },
     "execution_count": 16,
     "metadata": {},
     "output_type": "execute_result"
    }
   ],
   "source": [
    "context = info_collector.context\n",
    "context"
   ]
  },
  {
   "cell_type": "code",
   "execution_count": 17,
   "id": "905a6f6cfbb8a9d3",
   "metadata": {
    "ExecuteTime": {
     "end_time": "2024-03-31T06:55:20.100272Z",
     "start_time": "2024-03-31T06:55:20.091912Z"
    },
    "collapsed": false
   },
   "outputs": [],
   "source": [
    "builder = TypeBuilder(context, errors)\n",
    "builder.visit(ast)"
   ]
  },
  {
   "cell_type": "markdown",
   "id": "db41a98aaff0ab61",
   "metadata": {
    "collapsed": false
   },
   "source": [
    "# Imprimir el contexto con la inferencia de tipos"
   ]
  },
  {
   "cell_type": "markdown",
   "id": "5212ed404dd841c8",
   "metadata": {
    "collapsed": false
   },
   "source": [
    "# Para correr los códigos que quieras de prueba ir a main.py"
   ]
  },
  {
   "cell_type": "code",
   "execution_count": 18,
   "id": "1b1566290bbc6181",
   "metadata": {
    "ExecuteTime": {
     "end_time": "2024-03-31T06:55:20.128080Z",
     "start_time": "2024-03-31T06:55:20.121632Z"
    },
    "collapsed": false
   },
   "outputs": [],
   "source": []
  }
 ],
 "metadata": {
  "kernelspec": {
   "display_name": "Python 3",
   "language": "python",
   "name": "python3"
  },
  "language_info": {
   "codemirror_mode": {
    "name": "ipython",
    "version": 2
   },
   "file_extension": ".py",
   "mimetype": "text/x-python",
   "name": "python",
   "nbconvert_exporter": "python",
   "pygments_lexer": "ipython2",
   "version": "3.12.2"
  }
 },
 "nbformat": 4,
 "nbformat_minor": 5
}
